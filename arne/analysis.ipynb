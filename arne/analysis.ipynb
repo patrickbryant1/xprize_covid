{
 "cells": [
  {
   "cell_type": "code",
   "execution_count": null,
   "metadata": {
    "collapsed": false
   },
   "outputs": [],
   "source": []
  },
  {
   "cell_type": "code",
   "execution_count": 1,
   "metadata": {
    "collapsed": false
   },
   "outputs": [],
   "source": [
    "import seaborn as sns\n",
    "import numpy as np\n",
    "import matplotlib.pyplot as plt\n",
    "import re\n",
    "import pandas as pd\n"
   ]
  },
  {
   "cell_type": "code",
   "execution_count": 2,
   "metadata": {
    "collapsed": false
   },
   "outputs": [],
   "source": [
    "import sklearn\n",
    "from sklearn.linear_model import LinearRegression\n",
    "#rom sklearn.ensemble import RandomForestClassifier\n",
    "#from sklearn.linear_model import LassoLars\n",
    "\n",
    "from sklearn.linear_model import TweedieRegressor\n",
    "\n",
    "from sklearn.linear_model import (\n",
    "    LinearRegression, TheilSenRegressor, RANSACRegressor, HuberRegressor)\n",
    "from sklearn.metrics import mean_squared_error\n",
    "from sklearn.preprocessing import PolynomialFeatures\n",
    "from sklearn.pipeline import make_pipeline"
   ]
  },
  {
   "cell_type": "code",
   "execution_count": 3,
   "metadata": {
    "collapsed": false
   },
   "outputs": [],
   "source": [
    "sns.set(style=\"whitegrid\")\n"
   ]
  },
  {
   "cell_type": "code",
   "execution_count": 12,
   "metadata": {
    "collapsed": false
   },
   "outputs": [
    {
     "name": "stderr",
     "output_type": "stream",
     "text": [
      "/usr/lib/python3/dist-packages/IPython/core/interactiveshell.py:3062: DtypeWarning: Columns (3,4) have mixed types.Specify dtype option on import or set low_memory=False.\n",
      "  has_raised = await self.run_ast_nodes(code_ast.body, cell_name,\n"
     ]
    }
   ],
   "source": [
    "df=pd.read_csv(\"~/git/xprize_covid/data/adjusted_data.csv\",sep=\",\")\n"
   ]
  },
  {
   "cell_type": "code",
   "execution_count": 13,
   "metadata": {
    "collapsed": false
   },
   "outputs": [
    {
     "data": {
      "text/plain": [
       "Index(['Unnamed: 0', 'CountryName', 'CountryCode', 'RegionName', 'RegionCode',\n",
       "       'Jurisdiction', 'Date', 'C1_School closing', 'C1_Flag',\n",
       "       'C2_Workplace closing', 'C2_Flag', 'C3_Cancel public events', 'C3_Flag',\n",
       "       'C4_Restrictions on gatherings', 'C4_Flag', 'C5_Close public transport',\n",
       "       'C5_Flag', 'C6_Stay at home requirements', 'C6_Flag',\n",
       "       'C7_Restrictions on internal movement', 'C7_Flag',\n",
       "       'C8_International travel controls', 'E1_Income support', 'E1_Flag',\n",
       "       'E2_Debt/contract relief', 'E3_Fiscal measures',\n",
       "       'E4_International support', 'H1_Public information campaigns',\n",
       "       'H1_Flag', 'H2_Testing policy', 'H3_Contact tracing',\n",
       "       'H4_Emergency investment in healthcare', 'H5_Investment in vaccines',\n",
       "       'H6_Facial Coverings', 'H6_Flag', 'M1_Wildcard', 'ConfirmedCases',\n",
       "       'ConfirmedDeaths', 'StringencyIndex', 'StringencyIndexForDisplay',\n",
       "       'StringencyLegacyIndex', 'StringencyLegacyIndexForDisplay',\n",
       "       'GovernmentResponseIndex', 'GovernmentResponseIndexForDisplay',\n",
       "       'ContainmentHealthIndex', 'ContainmentHealthIndexForDisplay',\n",
       "       'EconomicSupportIndex', 'EconomicSupportIndexForDisplay',\n",
       "       'Country_index', 'Region_index', 'smoothed_cases',\n",
       "       'cumulative_smoothed_cases', 'smoothed_deaths', 'rescaled_cases',\n",
       "       'cumulative_rescaled_cases', 'death_to_case_scale', 'case_death_delay',\n",
       "       'gross_net_income', 'population_density', 'Month',\n",
       "       'monthly_temperature', 'retail_and_recreation', 'grocery_and_pharmacy',\n",
       "       'parks', 'transit_stations', 'workplaces', 'residential', 'pdi', 'idv',\n",
       "       'mas', 'uai', 'ltowvs', 'ivr', 'population', 'PC1', 'PC2'],\n",
       "      dtype='object')"
      ]
     },
     "execution_count": 13,
     "metadata": {},
     "output_type": "execute_result"
    }
   ],
   "source": [
    "df.keys()"
   ]
  },
  {
   "cell_type": "code",
   "execution_count": 21,
   "metadata": {
    "collapsed": false
   },
   "outputs": [
    {
     "data": {
      "text/plain": [
       "array([ 1,  2,  3,  4,  5,  6,  7,  8,  9, 10, 11, 12])"
      ]
     },
     "execution_count": 21,
     "metadata": {},
     "output_type": "execute_result"
    }
   ],
   "source": []
  },
  {
   "cell_type": "code",
   "execution_count": 26,
   "metadata": {
    "collapsed": false
   },
   "outputs": [
    {
     "data": {
      "text/html": [
       "<div>\n",
       "<style scoped>\n",
       "    .dataframe tbody tr th:only-of-type {\n",
       "        vertical-align: middle;\n",
       "    }\n",
       "\n",
       "    .dataframe tbody tr th {\n",
       "        vertical-align: top;\n",
       "    }\n",
       "\n",
       "    .dataframe thead th {\n",
       "        text-align: right;\n",
       "    }\n",
       "</style>\n",
       "<table border=\"1\" class=\"dataframe\">\n",
       "  <thead>\n",
       "    <tr style=\"text-align: right;\">\n",
       "      <th></th>\n",
       "      <th>cumulative_smoothed_cases</th>\n",
       "      <th>ConfirmedCases</th>\n",
       "    </tr>\n",
       "  </thead>\n",
       "  <tbody>\n",
       "    <tr>\n",
       "      <th>62345</th>\n",
       "      <td>0.000000</td>\n",
       "      <td>0.0</td>\n",
       "    </tr>\n",
       "    <tr>\n",
       "      <th>62346</th>\n",
       "      <td>0.000000</td>\n",
       "      <td>0.0</td>\n",
       "    </tr>\n",
       "    <tr>\n",
       "      <th>62347</th>\n",
       "      <td>0.000000</td>\n",
       "      <td>0.0</td>\n",
       "    </tr>\n",
       "    <tr>\n",
       "      <th>62348</th>\n",
       "      <td>0.000000</td>\n",
       "      <td>0.0</td>\n",
       "    </tr>\n",
       "    <tr>\n",
       "      <th>62349</th>\n",
       "      <td>0.000000</td>\n",
       "      <td>0.0</td>\n",
       "    </tr>\n",
       "    <tr>\n",
       "      <th>...</th>\n",
       "      <td>...</td>\n",
       "      <td>...</td>\n",
       "    </tr>\n",
       "    <tr>\n",
       "      <th>62677</th>\n",
       "      <td>227896.714286</td>\n",
       "      <td>243129.0</td>\n",
       "    </tr>\n",
       "    <tr>\n",
       "      <th>62678</th>\n",
       "      <td>232873.000000</td>\n",
       "      <td>243129.0</td>\n",
       "    </tr>\n",
       "    <tr>\n",
       "      <th>62679</th>\n",
       "      <td>237849.285714</td>\n",
       "      <td>243129.0</td>\n",
       "    </tr>\n",
       "    <tr>\n",
       "      <th>62680</th>\n",
       "      <td>242877.571429</td>\n",
       "      <td>260758.0</td>\n",
       "    </tr>\n",
       "    <tr>\n",
       "      <th>62681</th>\n",
       "      <td>247198.142857</td>\n",
       "      <td>0.0</td>\n",
       "    </tr>\n",
       "  </tbody>\n",
       "</table>\n",
       "<p>337 rows × 2 columns</p>\n",
       "</div>"
      ],
      "text/plain": [
       "       cumulative_smoothed_cases  ConfirmedCases\n",
       "62345                   0.000000             0.0\n",
       "62346                   0.000000             0.0\n",
       "62347                   0.000000             0.0\n",
       "62348                   0.000000             0.0\n",
       "62349                   0.000000             0.0\n",
       "...                          ...             ...\n",
       "62677              227896.714286        243129.0\n",
       "62678              232873.000000        243129.0\n",
       "62679              237849.285714        243129.0\n",
       "62680              242877.571429        260758.0\n",
       "62681              247198.142857             0.0\n",
       "\n",
       "[337 rows x 2 columns]"
      ]
     },
     "execution_count": 26,
     "metadata": {},
     "output_type": "execute_result"
    }
   ],
   "source": [
    "df[(df.CountryName==\"Sweden\" )][[\"cumulative_smoothed_cases\",\"ConfirmedCases\"]]"
   ]
  },
  {
   "cell_type": "code",
   "execution_count": 66,
   "metadata": {
    "collapsed": false
   },
   "outputs": [],
   "source": [
    "df.RegionName.replace(\"0\",\"\",inplace=True)\n",
    "df.RegionCode.replace(\"0\",\"\",inplace=True)\n",
    "#df[df.CountryName==\"Aruba\"][[\"RegionName\",\"RegionCode\"]]"
   ]
  },
  {
   "cell_type": "code",
   "execution_count": 67,
   "metadata": {
    "collapsed": false
   },
   "outputs": [
    {
     "data": {
      "text/plain": [
       "array(['Aruba', 'Afghanistan', 'Angola', 'Albania', 'Andorra',\n",
       "       'United Arab Emirates', 'Argentina', 'Australia', 'Austria',\n",
       "       'Azerbaijan', 'Burundi', 'Belgium', 'Benin', 'Burkina Faso',\n",
       "       'Bangladesh', 'Bulgaria', 'Bahrain', 'Bahamas',\n",
       "       'Bosnia and Herzegovina', 'Belarus', 'Belize', 'Bermuda',\n",
       "       'Bolivia', 'BrazilAcre', 'BrazilAlagoas', 'BrazilAmazonas',\n",
       "       'BrazilAmapa', 'BrazilBahia', 'BrazilCeara',\n",
       "       'BrazilDistrito Federal', 'BrazilEspirito Santo', 'BrazilGoias',\n",
       "       'BrazilMaranhao', 'BrazilMinas Gerais', 'BrazilMato Grosso do Sul',\n",
       "       'BrazilMato Grosso', 'BrazilPara', 'BrazilParaiba',\n",
       "       'BrazilPernambuco', 'BrazilPiaui', 'BrazilParana',\n",
       "       'BrazilRio de Janeiro', 'BrazilRio Grande do Norte',\n",
       "       'BrazilRondonia', 'BrazilRoraima', 'BrazilRio Grande do Sul',\n",
       "       'BrazilSanta Catarina', 'BrazilSergipe', 'BrazilSao Paulo',\n",
       "       'BrazilTocantins', 'Brazil', 'Barbados', 'Brunei', 'Bhutan',\n",
       "       'Botswana', 'Central African Republic', 'Canada', 'Switzerland',\n",
       "       'Chile', 'China', \"Cote d'Ivoire\", 'Cameroon',\n",
       "       'Democratic Republic of Congo', 'Congo', 'Colombia', 'Comoros',\n",
       "       'Cape Verde', 'Costa Rica', 'Cuba', 'Cyprus', 'Czech Republic',\n",
       "       'Germany', 'Djibouti', 'Dominica', 'Denmark', 'Dominican Republic',\n",
       "       'Algeria', 'Ecuador', 'Egypt', 'Eritrea', 'Spain', 'Estonia',\n",
       "       'Ethiopia', 'Finland', 'Fiji', 'France', 'Faeroe Islands', 'Gabon',\n",
       "       'United Kingdom', 'United KingdomEngland',\n",
       "       'United KingdomNorthern Ireland', 'United KingdomScotland',\n",
       "       'United KingdomWales', 'Georgia', 'Ghana', 'Guinea', 'Gambia',\n",
       "       'Greece', 'Greenland', 'Guatemala', 'Guam', 'Guyana', 'Hong Kong',\n",
       "       'Honduras', 'Croatia', 'Haiti', 'Hungary', 'Indonesia', 'India',\n",
       "       'Ireland', 'Iran', 'Iraq', 'Iceland', 'Israel', 'Italy', 'Jamaica',\n",
       "       'Jordan', 'Japan', 'Kazakhstan', 'Kenya', 'Kyrgyz Republic',\n",
       "       'Cambodia', 'South Korea', 'Kuwait', 'Laos', 'Lebanon', 'Liberia',\n",
       "       'Libya', 'Sri Lanka', 'Lesotho', 'Lithuania', 'Luxembourg',\n",
       "       'Latvia', 'Macao', 'Morocco', 'Monaco', 'Moldova', 'Madagascar',\n",
       "       'Mexico', 'Mali', 'Myanmar', 'Mongolia', 'Mozambique',\n",
       "       'Mauritania', 'Mauritius', 'Malawi', 'Malaysia', 'Namibia',\n",
       "       'Niger', 'Nigeria', 'Nicaragua', 'Netherlands', 'Norway', 'Nepal',\n",
       "       'New Zealand', 'Oman', 'Pakistan', 'Panama', 'Peru', 'Philippines',\n",
       "       'Papua New Guinea', 'Poland', 'Puerto Rico', 'Portugal',\n",
       "       'Paraguay', 'Palestine', 'Qatar', 'Kosovo', 'Romania', 'Russia',\n",
       "       'Rwanda', 'Saudi Arabia', 'Sudan', 'Senegal', 'Singapore',\n",
       "       'Solomon Islands', 'Sierra Leone', 'El Salvador', 'San Marino',\n",
       "       'Somalia', 'Serbia', 'South Sudan', 'Suriname', 'Slovak Republic',\n",
       "       'Slovenia', 'Sweden', 'Eswatini', 'Seychelles', 'Syria', 'Chad',\n",
       "       'Togo', 'Thailand', 'Tajikistan', 'Turkmenistan', 'Timor-Leste',\n",
       "       'Trinidad and Tobago', 'Tunisia', 'Turkey', 'Taiwan', 'Tanzania',\n",
       "       'Uganda', 'Ukraine', 'Uruguay', 'United States',\n",
       "       'United StatesAlaska', 'United StatesAlabama',\n",
       "       'United StatesArkansas', 'United StatesArizona',\n",
       "       'United StatesCalifornia', 'United StatesColorado',\n",
       "       'United StatesConnecticut', 'United StatesWashington DC',\n",
       "       'United StatesDelaware', 'United StatesFlorida',\n",
       "       'United StatesGeorgia', 'United StatesHawaii', 'United StatesIowa',\n",
       "       'United StatesIdaho', 'United StatesIllinois',\n",
       "       'United StatesIndiana', 'United StatesKansas',\n",
       "       'United StatesKentucky', 'United StatesLouisiana',\n",
       "       'United StatesMassachusetts', 'United StatesMaryland',\n",
       "       'United StatesMaine', 'United StatesMichigan',\n",
       "       'United StatesMinnesota', 'United StatesMissouri',\n",
       "       'United StatesMississippi', 'United StatesMontana',\n",
       "       'United StatesNorth Carolina', 'United StatesNorth Dakota',\n",
       "       'United StatesNebraska', 'United StatesNew Hampshire',\n",
       "       'United StatesNew Jersey', 'United StatesNew Mexico',\n",
       "       'United StatesNevada', 'United StatesNew York',\n",
       "       'United StatesOhio', 'United StatesOklahoma',\n",
       "       'United StatesOregon', 'United StatesPennsylvania',\n",
       "       'United StatesRhode Island', 'United StatesSouth Carolina',\n",
       "       'United StatesSouth Dakota', 'United StatesTennessee',\n",
       "       'United StatesTexas', 'United StatesUtah', 'United StatesVirginia',\n",
       "       'United StatesVirgin Islands', 'United StatesVermont',\n",
       "       'United StatesWashington', 'United StatesWisconsin',\n",
       "       'United StatesWest Virginia', 'United StatesWyoming', 'Uzbekistan',\n",
       "       'Venezuela', 'United States Virgin Islands', 'Vietnam', 'Vanuatu',\n",
       "       'Yemen', 'South Africa', 'Zambia', 'Zimbabwe'], dtype=object)"
      ]
     },
     "execution_count": 67,
     "metadata": {},
     "output_type": "execute_result"
    }
   ],
   "source": [
    "df[\"country\"]=df.CountryName+df.RegionName\n",
    "casecolumns=[\"smoothed_deaths\",\"smoothed_cases\"]\n",
    "tiny=1.e-20\n",
    "countries=df[\"country\"].unique()\n",
    "countries"
   ]
  },
  {
   "cell_type": "code",
   "execution_count": 104,
   "metadata": {
    "collapsed": false
   },
   "outputs": [
    {
     "data": {
      "text/plain": [
       "0         0.0\n",
       "1         0.0\n",
       "2         0.0\n",
       "3         0.0\n",
       "4         0.0\n",
       "         ... \n",
       "89300    21.0\n",
       "89301    21.0\n",
       "89302    21.0\n",
       "89303     0.0\n",
       "89304     0.0\n",
       "Name: AnyIntervention, Length: 89305, dtype: float64"
      ]
     },
     "execution_count": 104,
     "metadata": {},
     "output_type": "execute_result"
    }
   ],
   "source": [
    "interventions=['C1_School closing', 'C1_Flag',\n",
    "       'C2_Workplace closing', 'C2_Flag', 'C3_Cancel public events', 'C3_Flag',\n",
    "       'C4_Restrictions on gatherings', 'C4_Flag', 'C5_Close public transport',\n",
    "       'C5_Flag', 'C6_Stay at home requirements', 'C6_Flag',\n",
    "       'C7_Restrictions on internal movement', 'C7_Flag',\n",
    "       'C8_International travel controls', 'E1_Income support', 'E1_Flag',\n",
    "       'E2_Debt/contract relief', 'E3_Fiscal measures',\n",
    "       'E4_International support', 'H1_Public information campaigns',\n",
    "       'H1_Flag', 'H2_Testing policy', 'H3_Contact tracing',\n",
    "       'H4_Emergency investment in healthcare', 'H5_Investment in vaccines',\n",
    "       'H6_Facial Coverings', 'H6_Flag'] # , 'M1_Wildcard']\n",
    "\n",
    "interventions=['C1_School closing', 'C1_Flag',\n",
    "       'C2_Workplace closing', 'C2_Flag', 'C3_Cancel public events', 'C3_Flag',\n",
    "       'C4_Restrictions on gatherings', 'C4_Flag', 'C5_Close public transport',\n",
    "       'C5_Flag', 'C6_Stay at home requirements', 'C6_Flag',\n",
    "       'C7_Restrictions on internal movement', 'C7_Flag',\n",
    "       'C8_International travel controls']\n",
    "\n",
    "df[\"AnyIntervention\"]=df[interventions].sum(axis=1)\n",
    "df[\"AnyIntervention\"]"
   ]
  },
  {
   "cell_type": "code",
   "execution_count": 105,
   "metadata": {
    "collapsed": false
   },
   "outputs": [],
   "source": [
    "merged_df = pd.DataFrame([])\n",
    "for country in countries:\n",
    "    #print (country)\n",
    "    temp_df=df.loc[df.country==country].reset_index()\n",
    "    for key in casecolumns:\n",
    "        #print (key)\n",
    "        temp_df[key+\"_diff7\"]=temp_df[key].diff(7)\n",
    "        temp_df[key+\"_diff30\"]=temp_df[key].diff(30)\n",
    "        temp_df[key+\"_ratio7\"]=(tiny+temp_df[key+\"_diff7\"])/(temp_df[key]+tiny)\n",
    "        temp_df[key+\"_slope7\"]=temp_df[key+\"_diff7\"]/(temp_df[key].max())\n",
    "        temp_df[key+\"_ratio30\"]=(tiny+temp_df[key+\"_diff7\"])/(temp_df[key]+tiny)\n",
    "        temp_df[key+\"_slope30\"]=temp_df[key+\"_diff7\"]/(temp_df[key].max())\n",
    "        temp_df[key+\"_diff-7\"]=temp_df[key].diff(periods=-7)\n",
    "        temp_df[key+\"_diff-30\"]=temp_df[key].diff(periods=-30)\n",
    "        temp_df[key+\"_ratio-7\"]=(tiny+temp_df[key+\"_diff-7\"])/(temp_df[key]+tiny)\n",
    "        temp_df[key+\"_slope-7\"]=temp_df[key+\"_diff-7\"]/(temp_df[key].max())\n",
    "        temp_df[key+\"_ratio-30\"]=(tiny+temp_df[key+\"_diff-7\"])/(temp_df[key]+tiny)\n",
    "        temp_df[key+\"_slope-30\"]=temp_df[key+\"_diff-7\"]/(temp_df[key].max())\n",
    "        # Fix first 7 values\n",
    "        temp_df[key+\"_diff7\"].fillna(0)\n",
    "        temp_df[key+\"_ratio7\"].fillna(1)\n",
    "        temp_df[key+\"_slope7\"].fillna(0)\n",
    "        temp_df[key+\"_diff30\"].fillna(0)\n",
    "        temp_df[key+\"_ratio30\"].fillna(1)\n",
    "        temp_df[key+\"_slope30\"].fillna(0)\n",
    "        temp_df[key+\"_diff-7\"].fillna(0)\n",
    "        temp_df[key+\"_ratio-7\"].fillna(1)\n",
    "        temp_df[key+\"_slope-7\"].fillna(0)\n",
    "        temp_df[key+\"_diff-30\"].fillna(0)\n",
    "        temp_df[key+\"_ratio-30\"].fillna(1)\n",
    "        temp_df[key+\"_slope-30\"].fillna(0)\n",
    "    for key in interventions+[\"AnyIntervention\"]:\n",
    "        temp_df[key+\"_diff1\"]=temp_df[key].diff(1)\n",
    "        temp_df[key+\"_diff-1\"]=temp_df[key].diff(-1)\n",
    "    merged_df=pd.concat([merged_df, temp_df], ignore_index=True,sort=False)\n"
   ]
  },
  {
   "cell_type": "code",
   "execution_count": 106,
   "metadata": {
    "collapsed": false
   },
   "outputs": [
    {
     "data": {
      "text/html": [
       "<div>\n",
       "<style scoped>\n",
       "    .dataframe tbody tr th:only-of-type {\n",
       "        vertical-align: middle;\n",
       "    }\n",
       "\n",
       "    .dataframe tbody tr th {\n",
       "        vertical-align: top;\n",
       "    }\n",
       "\n",
       "    .dataframe thead th {\n",
       "        text-align: right;\n",
       "    }\n",
       "</style>\n",
       "<table border=\"1\" class=\"dataframe\">\n",
       "  <thead>\n",
       "    <tr style=\"text-align: right;\">\n",
       "      <th></th>\n",
       "      <th>Date</th>\n",
       "      <th>smoothed_deaths_diff7</th>\n",
       "      <th>smoothed_deaths_diff-7</th>\n",
       "      <th>AnyIntervention_diff1</th>\n",
       "    </tr>\n",
       "  </thead>\n",
       "  <tbody>\n",
       "    <tr>\n",
       "      <th>62352</th>\n",
       "      <td>2020-01-08</td>\n",
       "      <td>0.000000</td>\n",
       "      <td>0.000000</td>\n",
       "      <td>0.0</td>\n",
       "    </tr>\n",
       "    <tr>\n",
       "      <th>62353</th>\n",
       "      <td>2020-01-09</td>\n",
       "      <td>0.000000</td>\n",
       "      <td>0.000000</td>\n",
       "      <td>0.0</td>\n",
       "    </tr>\n",
       "    <tr>\n",
       "      <th>62354</th>\n",
       "      <td>2020-01-10</td>\n",
       "      <td>0.000000</td>\n",
       "      <td>0.000000</td>\n",
       "      <td>0.0</td>\n",
       "    </tr>\n",
       "    <tr>\n",
       "      <th>62355</th>\n",
       "      <td>2020-01-11</td>\n",
       "      <td>0.000000</td>\n",
       "      <td>0.000000</td>\n",
       "      <td>0.0</td>\n",
       "    </tr>\n",
       "    <tr>\n",
       "      <th>62356</th>\n",
       "      <td>2020-01-12</td>\n",
       "      <td>0.000000</td>\n",
       "      <td>0.000000</td>\n",
       "      <td>0.0</td>\n",
       "    </tr>\n",
       "    <tr>\n",
       "      <th>...</th>\n",
       "      <td>...</td>\n",
       "      <td>...</td>\n",
       "      <td>...</td>\n",
       "      <td>...</td>\n",
       "    </tr>\n",
       "    <tr>\n",
       "      <th>62670</th>\n",
       "      <td>2020-11-21</td>\n",
       "      <td>14.285714</td>\n",
       "      <td>-4.714286</td>\n",
       "      <td>0.0</td>\n",
       "    </tr>\n",
       "    <tr>\n",
       "      <th>62671</th>\n",
       "      <td>2020-11-22</td>\n",
       "      <td>14.285714</td>\n",
       "      <td>-4.714286</td>\n",
       "      <td>0.0</td>\n",
       "    </tr>\n",
       "    <tr>\n",
       "      <th>62672</th>\n",
       "      <td>2020-11-23</td>\n",
       "      <td>14.285714</td>\n",
       "      <td>-4.714286</td>\n",
       "      <td>0.0</td>\n",
       "    </tr>\n",
       "    <tr>\n",
       "      <th>62673</th>\n",
       "      <td>2020-11-24</td>\n",
       "      <td>15.285714</td>\n",
       "      <td>-3.285714</td>\n",
       "      <td>1.0</td>\n",
       "    </tr>\n",
       "    <tr>\n",
       "      <th>62674</th>\n",
       "      <td>2020-11-25</td>\n",
       "      <td>-0.714286</td>\n",
       "      <td>-1.285714</td>\n",
       "      <td>0.0</td>\n",
       "    </tr>\n",
       "  </tbody>\n",
       "</table>\n",
       "<p>323 rows × 4 columns</p>\n",
       "</div>"
      ],
      "text/plain": [
       "             Date  smoothed_deaths_diff7  smoothed_deaths_diff-7  \\\n",
       "62352  2020-01-08               0.000000                0.000000   \n",
       "62353  2020-01-09               0.000000                0.000000   \n",
       "62354  2020-01-10               0.000000                0.000000   \n",
       "62355  2020-01-11               0.000000                0.000000   \n",
       "62356  2020-01-12               0.000000                0.000000   \n",
       "...           ...                    ...                     ...   \n",
       "62670  2020-11-21              14.285714               -4.714286   \n",
       "62671  2020-11-22              14.285714               -4.714286   \n",
       "62672  2020-11-23              14.285714               -4.714286   \n",
       "62673  2020-11-24              15.285714               -3.285714   \n",
       "62674  2020-11-25              -0.714286               -1.285714   \n",
       "\n",
       "       AnyIntervention_diff1  \n",
       "62352                    0.0  \n",
       "62353                    0.0  \n",
       "62354                    0.0  \n",
       "62355                    0.0  \n",
       "62356                    0.0  \n",
       "...                      ...  \n",
       "62670                    0.0  \n",
       "62671                    0.0  \n",
       "62672                    0.0  \n",
       "62673                    1.0  \n",
       "62674                    0.0  \n",
       "\n",
       "[323 rows x 4 columns]"
      ]
     },
     "execution_count": 106,
     "metadata": {},
     "output_type": "execute_result"
    }
   ],
   "source": [
    "merged_df[merged_df.country==\"Sweden\"][[\"Date\",\"smoothed_deaths_diff7\",\"smoothed_deaths_diff-7\",\"AnyIntervention_diff1\"]].dropna()\n"
   ]
  },
  {
   "cell_type": "code",
   "execution_count": 115,
   "metadata": {
    "collapsed": false
   },
   "outputs": [
    {
     "name": "stderr",
     "output_type": "stream",
     "text": [
      "<ipython-input-115-ff800c394e12>:3: SettingWithCopyWarning: \n",
      "A value is trying to be set on a copy of a slice from a DataFrame.\n",
      "Try using .loc[row_indexer,col_indexer] = value instead\n",
      "\n",
      "See the caveats in the documentation: https://pandas.pydata.org/pandas-docs/stable/user_guide/indexing.html#returning-a-view-versus-a-copy\n",
      "  temp_df[\"change\"]=temp_df.smoothed_cases_slope7-temp_df[\"smoothed_cases_slope-7\"]\n"
     ]
    },
    {
     "data": {
      "text/plain": [
       "<matplotlib.collections.PathCollection at 0x7f0018a36dc0>"
      ]
     },
     "execution_count": 115,
     "metadata": {},
     "output_type": "execute_result"
    },
    {
     "data": {
      "image/png": "[encoded data removed]",
      "text/plain": [
       "<Figure size 468x468 with 1 Axes>"
      ]
     },
     "metadata": {},
     "output_type": "display_data"
    }
   ],
   "source": [
    "f, ax = plt.subplots(figsize=(6.5, 6.5))\n",
    "temp_df=merged_df.loc[merged_df.AnyIntervention_diff1 != 0]\n",
    "temp_df[\"change\"]=temp_df.smoothed_cases_slope7-temp_df[\"smoothed_cases_slope-7\"]\n",
    "#plt.scatter(temp_df.AnyIntervention_diff1,temp_df.smoothed_cases_slope30,color=\"red\")\n",
    "#plt.scatter(temp_df.AnyIntervention_diff1,temp_df[\"smoothed_cases_slope-30\"],color=\"blue\")\n",
    "plt.scatter(temp_df.AnyIntervention_diff1,temp_df[\"change\"],color=\"blue\")\n",
    "\n",
    "ax.set_title(\"Change in slop of cases\")\n",
    "ax.set_ylabel(\"Change in slope\")\n",
    "ax.set_xlabel(\"Change in interventio\")\n",
    "\n"
   ]
  },
  {
   "cell_type": "code",
   "execution_count": 116,
   "metadata": {
    "collapsed": false
   },
   "outputs": [
    {
     "name": "stderr",
     "output_type": "stream",
     "text": [
      "<ipython-input-116-471fe73b4168>:3: SettingWithCopyWarning: \n",
      "A value is trying to be set on a copy of a slice from a DataFrame.\n",
      "Try using .loc[row_indexer,col_indexer] = value instead\n",
      "\n",
      "See the caveats in the documentation: https://pandas.pydata.org/pandas-docs/stable/user_guide/indexing.html#returning-a-view-versus-a-copy\n",
      "  temp_df[\"change\"]=temp_df.smoothed_cases_slope7-temp_df[\"smoothed_cases_slope-7\"]\n"
     ]
    },
    {
     "data": {
      "text/plain": [
       "<matplotlib.collections.PathCollection at 0x7f0018379c70>"
      ]
     },
     "execution_count": 116,
     "metadata": {},
     "output_type": "execute_result"
    },
    {
     "data": {
      "image/png": "[encoded data removed]",
      "text/plain": [
       "<Figure size 468x468 with 1 Axes>"
      ]
     },
     "metadata": {},
     "output_type": "display_data"
    }
   ],
   "source": [
    "f, ax = plt.subplots(figsize=(6.5, 6.5))\n",
    "temp_df=merged_df.loc[merged_df.C6_Flag_diff1 != 0]\n",
    "temp_df[\"change\"]=temp_df.smoothed_cases_slope7-temp_df[\"smoothed_cases_slope-7\"]\n",
    "#plt.scatter(temp_df.AnyIntervention_diff1,temp_df.smoothed_cases_slope30,color=\"red\")\n",
    "#plt.scatter(temp_df.AnyIntervention_diff1,temp_df[\"smoothed_cases_slope-30\"],color=\"blue\")\n",
    "plt.scatter(temp_df.AnyIntervention_diff1,temp_df[\"change\"],color=\"blue\")\n"
   ]
  },
  {
   "cell_type": "code",
   "execution_count": 53,
   "metadata": {
    "collapsed": false
   },
   "outputs": [
    {
     "data": {
      "text/plain": [
       "array(['ABW0        0\\n1        0\\n2        0\\n3        0\\n4        0\\n        ..\\n89300    0\\n89301    0\\n89302    0\\n89303    0\\n89304    0\\nName: RegionName, Length: 89305, dtype: object',\n",
       "       'AFG0        0\\n1        0\\n2        0\\n3        0\\n4        0\\n        ..\\n89300    0\\n89301    0\\n89302    0\\n89303    0\\n89304    0\\nName: RegionName, Length: 89305, dtype: object',\n",
       "       'AGO0        0\\n1        0\\n2        0\\n3        0\\n4        0\\n        ..\\n89300    0\\n89301    0\\n89302    0\\n89303    0\\n89304    0\\nName: RegionName, Length: 89305, dtype: object',\n",
       "       'ALB0        0\\n1        0\\n2        0\\n3        0\\n4        0\\n        ..\\n89300    0\\n89301    0\\n89302    0\\n89303    0\\n89304    0\\nName: RegionName, Length: 89305, dtype: object',\n",
       "       'AND0        0\\n1        0\\n2        0\\n3        0\\n4        0\\n        ..\\n89300    0\\n89301    0\\n89302    0\\n89303    0\\n89304    0\\nName: RegionName, Length: 89305, dtype: object',\n",
       "       'ARE0        0\\n1        0\\n2        0\\n3        0\\n4        0\\n        ..\\n89300    0\\n89301    0\\n89302    0\\n89303    0\\n89304    0\\nName: RegionName, Length: 89305, dtype: object',\n",
       "       'ARG0        0\\n1        0\\n2        0\\n3        0\\n4        0\\n        ..\\n89300    0\\n89301    0\\n89302    0\\n89303    0\\n89304    0\\nName: RegionName, Length: 89305, dtype: object',\n",
       "       'AUS0        0\\n1        0\\n2        0\\n3        0\\n4        0\\n        ..\\n89300    0\\n89301    0\\n89302    0\\n89303    0\\n89304    0\\nName: RegionName, Length: 89305, dtype: object',\n",
       "       'AUT0        0\\n1        0\\n2        0\\n3        0\\n4        0\\n        ..\\n89300    0\\n89301    0\\n89302    0\\n89303    0\\n89304    0\\nName: RegionName, Length: 89305, dtype: object',\n",
       "       'AZE0        0\\n1        0\\n2        0\\n3        0\\n4        0\\n        ..\\n89300    0\\n89301    0\\n89302    0\\n89303    0\\n89304    0\\nName: RegionName, Length: 89305, dtype: object',\n",
       "       'BDI0        0\\n1        0\\n2        0\\n3        0\\n4        0\\n        ..\\n89300    0\\n89301    0\\n89302    0\\n89303    0\\n89304    0\\nName: RegionName, Length: 89305, dtype: object',\n",
       "       'BEL0        0\\n1        0\\n2        0\\n3        0\\n4        0\\n        ..\\n89300    0\\n89301    0\\n89302    0\\n89303    0\\n89304    0\\nName: RegionName, Length: 89305, dtype: object',\n",
       "       'BEN0        0\\n1        0\\n2        0\\n3        0\\n4        0\\n        ..\\n89300    0\\n89301    0\\n89302    0\\n89303    0\\n89304    0\\nName: RegionName, Length: 89305, dtype: object',\n",
       "       'BFA0        0\\n1        0\\n2        0\\n3        0\\n4        0\\n        ..\\n89300    0\\n89301    0\\n89302    0\\n89303    0\\n89304    0\\nName: RegionName, Length: 89305, dtype: object',\n",
       "       'BGD0        0\\n1        0\\n2        0\\n3        0\\n4        0\\n        ..\\n89300    0\\n89301    0\\n89302    0\\n89303    0\\n89304    0\\nName: RegionName, Length: 89305, dtype: object',\n",
       "       'BGR0        0\\n1        0\\n2        0\\n3        0\\n4        0\\n        ..\\n89300    0\\n89301    0\\n89302    0\\n89303    0\\n89304    0\\nName: RegionName, Length: 89305, dtype: object',\n",
       "       'BHR0        0\\n1        0\\n2        0\\n3        0\\n4        0\\n        ..\\n89300    0\\n89301    0\\n89302    0\\n89303    0\\n89304    0\\nName: RegionName, Length: 89305, dtype: object',\n",
       "       'BHS0        0\\n1        0\\n2        0\\n3        0\\n4        0\\n        ..\\n89300    0\\n89301    0\\n89302    0\\n89303    0\\n89304    0\\nName: RegionName, Length: 89305, dtype: object',\n",
       "       'BIH0        0\\n1        0\\n2        0\\n3        0\\n4        0\\n        ..\\n89300    0\\n89301    0\\n89302    0\\n89303    0\\n89304    0\\nName: RegionName, Length: 89305, dtype: object',\n",
       "       'BLR0        0\\n1        0\\n2        0\\n3        0\\n4        0\\n        ..\\n89300    0\\n89301    0\\n89302    0\\n89303    0\\n89304    0\\nName: RegionName, Length: 89305, dtype: object',\n",
       "       'BLZ0        0\\n1        0\\n2        0\\n3        0\\n4        0\\n        ..\\n89300    0\\n89301    0\\n89302    0\\n89303    0\\n89304    0\\nName: RegionName, Length: 89305, dtype: object',\n",
       "       'BMU0        0\\n1        0\\n2        0\\n3        0\\n4        0\\n        ..\\n89300    0\\n89301    0\\n89302    0\\n89303    0\\n89304    0\\nName: RegionName, Length: 89305, dtype: object',\n",
       "       'BOL0        0\\n1        0\\n2        0\\n3        0\\n4        0\\n        ..\\n89300    0\\n89301    0\\n89302    0\\n89303    0\\n89304    0\\nName: RegionName, Length: 89305, dtype: object',\n",
       "       'BRA0        0\\n1        0\\n2        0\\n3        0\\n4        0\\n        ..\\n89300    0\\n89301    0\\n89302    0\\n89303    0\\n89304    0\\nName: RegionName, Length: 89305, dtype: object',\n",
       "       'BRB0        0\\n1        0\\n2        0\\n3        0\\n4        0\\n        ..\\n89300    0\\n89301    0\\n89302    0\\n89303    0\\n89304    0\\nName: RegionName, Length: 89305, dtype: object',\n",
       "       'BRN0        0\\n1        0\\n2        0\\n3        0\\n4        0\\n        ..\\n89300    0\\n89301    0\\n89302    0\\n89303    0\\n89304    0\\nName: RegionName, Length: 89305, dtype: object',\n",
       "       'BTN0        0\\n1        0\\n2        0\\n3        0\\n4        0\\n        ..\\n89300    0\\n89301    0\\n89302    0\\n89303    0\\n89304    0\\nName: RegionName, Length: 89305, dtype: object',\n",
       "       'BWA0        0\\n1        0\\n2        0\\n3        0\\n4        0\\n        ..\\n89300    0\\n89301    0\\n89302    0\\n89303    0\\n89304    0\\nName: RegionName, Length: 89305, dtype: object',\n",
       "       'CAF0        0\\n1        0\\n2        0\\n3        0\\n4        0\\n        ..\\n89300    0\\n89301    0\\n89302    0\\n89303    0\\n89304    0\\nName: RegionName, Length: 89305, dtype: object',\n",
       "       'CAN0        0\\n1        0\\n2        0\\n3        0\\n4        0\\n        ..\\n89300    0\\n89301    0\\n89302    0\\n89303    0\\n89304    0\\nName: RegionName, Length: 89305, dtype: object',\n",
       "       'CHE0        0\\n1        0\\n2        0\\n3        0\\n4        0\\n        ..\\n89300    0\\n89301    0\\n89302    0\\n89303    0\\n89304    0\\nName: RegionName, Length: 89305, dtype: object',\n",
       "       'CHL0        0\\n1        0\\n2        0\\n3        0\\n4        0\\n        ..\\n89300    0\\n89301    0\\n89302    0\\n89303    0\\n89304    0\\nName: RegionName, Length: 89305, dtype: object',\n",
       "       'CHN0        0\\n1        0\\n2        0\\n3        0\\n4        0\\n        ..\\n89300    0\\n89301    0\\n89302    0\\n89303    0\\n89304    0\\nName: RegionName, Length: 89305, dtype: object',\n",
       "       'CIV0        0\\n1        0\\n2        0\\n3        0\\n4        0\\n        ..\\n89300    0\\n89301    0\\n89302    0\\n89303    0\\n89304    0\\nName: RegionName, Length: 89305, dtype: object',\n",
       "       'CMR0        0\\n1        0\\n2        0\\n3        0\\n4        0\\n        ..\\n89300    0\\n89301    0\\n89302    0\\n89303    0\\n89304    0\\nName: RegionName, Length: 89305, dtype: object',\n",
       "       'COD0        0\\n1        0\\n2        0\\n3        0\\n4        0\\n        ..\\n89300    0\\n89301    0\\n89302    0\\n89303    0\\n89304    0\\nName: RegionName, Length: 89305, dtype: object',\n",
       "       'COG0        0\\n1        0\\n2        0\\n3        0\\n4        0\\n        ..\\n89300    0\\n89301    0\\n89302    0\\n89303    0\\n89304    0\\nName: RegionName, Length: 89305, dtype: object',\n",
       "       'COL0        0\\n1        0\\n2        0\\n3        0\\n4        0\\n        ..\\n89300    0\\n89301    0\\n89302    0\\n89303    0\\n89304    0\\nName: RegionName, Length: 89305, dtype: object',\n",
       "       'COM0        0\\n1        0\\n2        0\\n3        0\\n4        0\\n        ..\\n89300    0\\n89301    0\\n89302    0\\n89303    0\\n89304    0\\nName: RegionName, Length: 89305, dtype: object',\n",
       "       'CPV0        0\\n1        0\\n2        0\\n3        0\\n4        0\\n        ..\\n89300    0\\n89301    0\\n89302    0\\n89303    0\\n89304    0\\nName: RegionName, Length: 89305, dtype: object',\n",
       "       'CRI0        0\\n1        0\\n2        0\\n3        0\\n4        0\\n        ..\\n89300    0\\n89301    0\\n89302    0\\n89303    0\\n89304    0\\nName: RegionName, Length: 89305, dtype: object',\n",
       "       'CUB0        0\\n1        0\\n2        0\\n3        0\\n4        0\\n        ..\\n89300    0\\n89301    0\\n89302    0\\n89303    0\\n89304    0\\nName: RegionName, Length: 89305, dtype: object',\n",
       "       'CYP0        0\\n1        0\\n2        0\\n3        0\\n4        0\\n        ..\\n89300    0\\n89301    0\\n89302    0\\n89303    0\\n89304    0\\nName: RegionName, Length: 89305, dtype: object',\n",
       "       'CZE0        0\\n1        0\\n2        0\\n3        0\\n4        0\\n        ..\\n89300    0\\n89301    0\\n89302    0\\n89303    0\\n89304    0\\nName: RegionName, Length: 89305, dtype: object',\n",
       "       'DEU0        0\\n1        0\\n2        0\\n3        0\\n4        0\\n        ..\\n89300    0\\n89301    0\\n89302    0\\n89303    0\\n89304    0\\nName: RegionName, Length: 89305, dtype: object',\n",
       "       'DJI0        0\\n1        0\\n2        0\\n3        0\\n4        0\\n        ..\\n89300    0\\n89301    0\\n89302    0\\n89303    0\\n89304    0\\nName: RegionName, Length: 89305, dtype: object',\n",
       "       'DMA0        0\\n1        0\\n2        0\\n3        0\\n4        0\\n        ..\\n89300    0\\n89301    0\\n89302    0\\n89303    0\\n89304    0\\nName: RegionName, Length: 89305, dtype: object',\n",
       "       'DNK0        0\\n1        0\\n2        0\\n3        0\\n4        0\\n        ..\\n89300    0\\n89301    0\\n89302    0\\n89303    0\\n89304    0\\nName: RegionName, Length: 89305, dtype: object',\n",
       "       'DOM0        0\\n1        0\\n2        0\\n3        0\\n4        0\\n        ..\\n89300    0\\n89301    0\\n89302    0\\n89303    0\\n89304    0\\nName: RegionName, Length: 89305, dtype: object',\n",
       "       'DZA0        0\\n1        0\\n2        0\\n3        0\\n4        0\\n        ..\\n89300    0\\n89301    0\\n89302    0\\n89303    0\\n89304    0\\nName: RegionName, Length: 89305, dtype: object',\n",
       "       'ECU0        0\\n1        0\\n2        0\\n3        0\\n4        0\\n        ..\\n89300    0\\n89301    0\\n89302    0\\n89303    0\\n89304    0\\nName: RegionName, Length: 89305, dtype: object',\n",
       "       'EGY0        0\\n1        0\\n2        0\\n3        0\\n4        0\\n        ..\\n89300    0\\n89301    0\\n89302    0\\n89303    0\\n89304    0\\nName: RegionName, Length: 89305, dtype: object',\n",
       "       'ERI0        0\\n1        0\\n2        0\\n3        0\\n4        0\\n        ..\\n89300    0\\n89301    0\\n89302    0\\n89303    0\\n89304    0\\nName: RegionName, Length: 89305, dtype: object',\n",
       "       'ESP0        0\\n1        0\\n2        0\\n3        0\\n4        0\\n        ..\\n89300    0\\n89301    0\\n89302    0\\n89303    0\\n89304    0\\nName: RegionName, Length: 89305, dtype: object',\n",
       "       'EST0        0\\n1        0\\n2        0\\n3        0\\n4        0\\n        ..\\n89300    0\\n89301    0\\n89302    0\\n89303    0\\n89304    0\\nName: RegionName, Length: 89305, dtype: object',\n",
       "       'ETH0        0\\n1        0\\n2        0\\n3        0\\n4        0\\n        ..\\n89300    0\\n89301    0\\n89302    0\\n89303    0\\n89304    0\\nName: RegionName, Length: 89305, dtype: object',\n",
       "       'FIN0        0\\n1        0\\n2        0\\n3        0\\n4        0\\n        ..\\n89300    0\\n89301    0\\n89302    0\\n89303    0\\n89304    0\\nName: RegionName, Length: 89305, dtype: object',\n",
       "       'FJI0        0\\n1        0\\n2        0\\n3        0\\n4        0\\n        ..\\n89300    0\\n89301    0\\n89302    0\\n89303    0\\n89304    0\\nName: RegionName, Length: 89305, dtype: object',\n",
       "       'FRA0        0\\n1        0\\n2        0\\n3        0\\n4        0\\n        ..\\n89300    0\\n89301    0\\n89302    0\\n89303    0\\n89304    0\\nName: RegionName, Length: 89305, dtype: object',\n",
       "       'FRO0        0\\n1        0\\n2        0\\n3        0\\n4        0\\n        ..\\n89300    0\\n89301    0\\n89302    0\\n89303    0\\n89304    0\\nName: RegionName, Length: 89305, dtype: object',\n",
       "       'GAB0        0\\n1        0\\n2        0\\n3        0\\n4        0\\n        ..\\n89300    0\\n89301    0\\n89302    0\\n89303    0\\n89304    0\\nName: RegionName, Length: 89305, dtype: object',\n",
       "       'GBR0        0\\n1        0\\n2        0\\n3        0\\n4        0\\n        ..\\n89300    0\\n89301    0\\n89302    0\\n89303    0\\n89304    0\\nName: RegionName, Length: 89305, dtype: object',\n",
       "       'GEO0        0\\n1        0\\n2        0\\n3        0\\n4        0\\n        ..\\n89300    0\\n89301    0\\n89302    0\\n89303    0\\n89304    0\\nName: RegionName, Length: 89305, dtype: object',\n",
       "       'GHA0        0\\n1        0\\n2        0\\n3        0\\n4        0\\n        ..\\n89300    0\\n89301    0\\n89302    0\\n89303    0\\n89304    0\\nName: RegionName, Length: 89305, dtype: object',\n",
       "       'GIN0        0\\n1        0\\n2        0\\n3        0\\n4        0\\n        ..\\n89300    0\\n89301    0\\n89302    0\\n89303    0\\n89304    0\\nName: RegionName, Length: 89305, dtype: object',\n",
       "       'GMB0        0\\n1        0\\n2        0\\n3        0\\n4        0\\n        ..\\n89300    0\\n89301    0\\n89302    0\\n89303    0\\n89304    0\\nName: RegionName, Length: 89305, dtype: object',\n",
       "       'GRC0        0\\n1        0\\n2        0\\n3        0\\n4        0\\n        ..\\n89300    0\\n89301    0\\n89302    0\\n89303    0\\n89304    0\\nName: RegionName, Length: 89305, dtype: object',\n",
       "       'GRL0        0\\n1        0\\n2        0\\n3        0\\n4        0\\n        ..\\n89300    0\\n89301    0\\n89302    0\\n89303    0\\n89304    0\\nName: RegionName, Length: 89305, dtype: object',\n",
       "       'GTM0        0\\n1        0\\n2        0\\n3        0\\n4        0\\n        ..\\n89300    0\\n89301    0\\n89302    0\\n89303    0\\n89304    0\\nName: RegionName, Length: 89305, dtype: object',\n",
       "       'GUM0        0\\n1        0\\n2        0\\n3        0\\n4        0\\n        ..\\n89300    0\\n89301    0\\n89302    0\\n89303    0\\n89304    0\\nName: RegionName, Length: 89305, dtype: object',\n",
       "       'GUY0        0\\n1        0\\n2        0\\n3        0\\n4        0\\n        ..\\n89300    0\\n89301    0\\n89302    0\\n89303    0\\n89304    0\\nName: RegionName, Length: 89305, dtype: object',\n",
       "       'HKG0        0\\n1        0\\n2        0\\n3        0\\n4        0\\n        ..\\n89300    0\\n89301    0\\n89302    0\\n89303    0\\n89304    0\\nName: RegionName, Length: 89305, dtype: object',\n",
       "       'HND0        0\\n1        0\\n2        0\\n3        0\\n4        0\\n        ..\\n89300    0\\n89301    0\\n89302    0\\n89303    0\\n89304    0\\nName: RegionName, Length: 89305, dtype: object',\n",
       "       'HRV0        0\\n1        0\\n2        0\\n3        0\\n4        0\\n        ..\\n89300    0\\n89301    0\\n89302    0\\n89303    0\\n89304    0\\nName: RegionName, Length: 89305, dtype: object',\n",
       "       'HTI0        0\\n1        0\\n2        0\\n3        0\\n4        0\\n        ..\\n89300    0\\n89301    0\\n89302    0\\n89303    0\\n89304    0\\nName: RegionName, Length: 89305, dtype: object',\n",
       "       'HUN0        0\\n1        0\\n2        0\\n3        0\\n4        0\\n        ..\\n89300    0\\n89301    0\\n89302    0\\n89303    0\\n89304    0\\nName: RegionName, Length: 89305, dtype: object',\n",
       "       'IDN0        0\\n1        0\\n2        0\\n3        0\\n4        0\\n        ..\\n89300    0\\n89301    0\\n89302    0\\n89303    0\\n89304    0\\nName: RegionName, Length: 89305, dtype: object',\n",
       "       'IND0        0\\n1        0\\n2        0\\n3        0\\n4        0\\n        ..\\n89300    0\\n89301    0\\n89302    0\\n89303    0\\n89304    0\\nName: RegionName, Length: 89305, dtype: object',\n",
       "       'IRL0        0\\n1        0\\n2        0\\n3        0\\n4        0\\n        ..\\n89300    0\\n89301    0\\n89302    0\\n89303    0\\n89304    0\\nName: RegionName, Length: 89305, dtype: object',\n",
       "       'IRN0        0\\n1        0\\n2        0\\n3        0\\n4        0\\n        ..\\n89300    0\\n89301    0\\n89302    0\\n89303    0\\n89304    0\\nName: RegionName, Length: 89305, dtype: object',\n",
       "       'IRQ0        0\\n1        0\\n2        0\\n3        0\\n4        0\\n        ..\\n89300    0\\n89301    0\\n89302    0\\n89303    0\\n89304    0\\nName: RegionName, Length: 89305, dtype: object',\n",
       "       'ISL0        0\\n1        0\\n2        0\\n3        0\\n4        0\\n        ..\\n89300    0\\n89301    0\\n89302    0\\n89303    0\\n89304    0\\nName: RegionName, Length: 89305, dtype: object',\n",
       "       'ISR0        0\\n1        0\\n2        0\\n3        0\\n4        0\\n        ..\\n89300    0\\n89301    0\\n89302    0\\n89303    0\\n89304    0\\nName: RegionName, Length: 89305, dtype: object',\n",
       "       'ITA0        0\\n1        0\\n2        0\\n3        0\\n4        0\\n        ..\\n89300    0\\n89301    0\\n89302    0\\n89303    0\\n89304    0\\nName: RegionName, Length: 89305, dtype: object',\n",
       "       'JAM0        0\\n1        0\\n2        0\\n3        0\\n4        0\\n        ..\\n89300    0\\n89301    0\\n89302    0\\n89303    0\\n89304    0\\nName: RegionName, Length: 89305, dtype: object',\n",
       "       'JOR0        0\\n1        0\\n2        0\\n3        0\\n4        0\\n        ..\\n89300    0\\n89301    0\\n89302    0\\n89303    0\\n89304    0\\nName: RegionName, Length: 89305, dtype: object',\n",
       "       'JPN0        0\\n1        0\\n2        0\\n3        0\\n4        0\\n        ..\\n89300    0\\n89301    0\\n89302    0\\n89303    0\\n89304    0\\nName: RegionName, Length: 89305, dtype: object',\n",
       "       'KAZ0        0\\n1        0\\n2        0\\n3        0\\n4        0\\n        ..\\n89300    0\\n89301    0\\n89302    0\\n89303    0\\n89304    0\\nName: RegionName, Length: 89305, dtype: object',\n",
       "       'KEN0        0\\n1        0\\n2        0\\n3        0\\n4        0\\n        ..\\n89300    0\\n89301    0\\n89302    0\\n89303    0\\n89304    0\\nName: RegionName, Length: 89305, dtype: object',\n",
       "       'KGZ0        0\\n1        0\\n2        0\\n3        0\\n4        0\\n        ..\\n89300    0\\n89301    0\\n89302    0\\n89303    0\\n89304    0\\nName: RegionName, Length: 89305, dtype: object',\n",
       "       'KHM0        0\\n1        0\\n2        0\\n3        0\\n4        0\\n        ..\\n89300    0\\n89301    0\\n89302    0\\n89303    0\\n89304    0\\nName: RegionName, Length: 89305, dtype: object',\n",
       "       'KOR0        0\\n1        0\\n2        0\\n3        0\\n4        0\\n        ..\\n89300    0\\n89301    0\\n89302    0\\n89303    0\\n89304    0\\nName: RegionName, Length: 89305, dtype: object',\n",
       "       'KWT0        0\\n1        0\\n2        0\\n3        0\\n4        0\\n        ..\\n89300    0\\n89301    0\\n89302    0\\n89303    0\\n89304    0\\nName: RegionName, Length: 89305, dtype: object',\n",
       "       'LAO0        0\\n1        0\\n2        0\\n3        0\\n4        0\\n        ..\\n89300    0\\n89301    0\\n89302    0\\n89303    0\\n89304    0\\nName: RegionName, Length: 89305, dtype: object',\n",
       "       'LBN0        0\\n1        0\\n2        0\\n3        0\\n4        0\\n        ..\\n89300    0\\n89301    0\\n89302    0\\n89303    0\\n89304    0\\nName: RegionName, Length: 89305, dtype: object',\n",
       "       'LBR0        0\\n1        0\\n2        0\\n3        0\\n4        0\\n        ..\\n89300    0\\n89301    0\\n89302    0\\n89303    0\\n89304    0\\nName: RegionName, Length: 89305, dtype: object',\n",
       "       'LBY0        0\\n1        0\\n2        0\\n3        0\\n4        0\\n        ..\\n89300    0\\n89301    0\\n89302    0\\n89303    0\\n89304    0\\nName: RegionName, Length: 89305, dtype: object',\n",
       "       'LKA0        0\\n1        0\\n2        0\\n3        0\\n4        0\\n        ..\\n89300    0\\n89301    0\\n89302    0\\n89303    0\\n89304    0\\nName: RegionName, Length: 89305, dtype: object',\n",
       "       'LSO0        0\\n1        0\\n2        0\\n3        0\\n4        0\\n        ..\\n89300    0\\n89301    0\\n89302    0\\n89303    0\\n89304    0\\nName: RegionName, Length: 89305, dtype: object',\n",
       "       'LTU0        0\\n1        0\\n2        0\\n3        0\\n4        0\\n        ..\\n89300    0\\n89301    0\\n89302    0\\n89303    0\\n89304    0\\nName: RegionName, Length: 89305, dtype: object',\n",
       "       'LUX0        0\\n1        0\\n2        0\\n3        0\\n4        0\\n        ..\\n89300    0\\n89301    0\\n89302    0\\n89303    0\\n89304    0\\nName: RegionName, Length: 89305, dtype: object',\n",
       "       'LVA0        0\\n1        0\\n2        0\\n3        0\\n4        0\\n        ..\\n89300    0\\n89301    0\\n89302    0\\n89303    0\\n89304    0\\nName: RegionName, Length: 89305, dtype: object',\n",
       "       'MAC0        0\\n1        0\\n2        0\\n3        0\\n4        0\\n        ..\\n89300    0\\n89301    0\\n89302    0\\n89303    0\\n89304    0\\nName: RegionName, Length: 89305, dtype: object',\n",
       "       'MAR0        0\\n1        0\\n2        0\\n3        0\\n4        0\\n        ..\\n89300    0\\n89301    0\\n89302    0\\n89303    0\\n89304    0\\nName: RegionName, Length: 89305, dtype: object',\n",
       "       'MCO0        0\\n1        0\\n2        0\\n3        0\\n4        0\\n        ..\\n89300    0\\n89301    0\\n89302    0\\n89303    0\\n89304    0\\nName: RegionName, Length: 89305, dtype: object',\n",
       "       'MDA0        0\\n1        0\\n2        0\\n3        0\\n4        0\\n        ..\\n89300    0\\n89301    0\\n89302    0\\n89303    0\\n89304    0\\nName: RegionName, Length: 89305, dtype: object',\n",
       "       'MDG0        0\\n1        0\\n2        0\\n3        0\\n4        0\\n        ..\\n89300    0\\n89301    0\\n89302    0\\n89303    0\\n89304    0\\nName: RegionName, Length: 89305, dtype: object',\n",
       "       'MEX0        0\\n1        0\\n2        0\\n3        0\\n4        0\\n        ..\\n89300    0\\n89301    0\\n89302    0\\n89303    0\\n89304    0\\nName: RegionName, Length: 89305, dtype: object',\n",
       "       'MLI0        0\\n1        0\\n2        0\\n3        0\\n4        0\\n        ..\\n89300    0\\n89301    0\\n89302    0\\n89303    0\\n89304    0\\nName: RegionName, Length: 89305, dtype: object',\n",
       "       'MMR0        0\\n1        0\\n2        0\\n3        0\\n4        0\\n        ..\\n89300    0\\n89301    0\\n89302    0\\n89303    0\\n89304    0\\nName: RegionName, Length: 89305, dtype: object',\n",
       "       'MNG0        0\\n1        0\\n2        0\\n3        0\\n4        0\\n        ..\\n89300    0\\n89301    0\\n89302    0\\n89303    0\\n89304    0\\nName: RegionName, Length: 89305, dtype: object',\n",
       "       'MOZ0        0\\n1        0\\n2        0\\n3        0\\n4        0\\n        ..\\n89300    0\\n89301    0\\n89302    0\\n89303    0\\n89304    0\\nName: RegionName, Length: 89305, dtype: object',\n",
       "       'MRT0        0\\n1        0\\n2        0\\n3        0\\n4        0\\n        ..\\n89300    0\\n89301    0\\n89302    0\\n89303    0\\n89304    0\\nName: RegionName, Length: 89305, dtype: object',\n",
       "       'MUS0        0\\n1        0\\n2        0\\n3        0\\n4        0\\n        ..\\n89300    0\\n89301    0\\n89302    0\\n89303    0\\n89304    0\\nName: RegionName, Length: 89305, dtype: object',\n",
       "       'MWI0        0\\n1        0\\n2        0\\n3        0\\n4        0\\n        ..\\n89300    0\\n89301    0\\n89302    0\\n89303    0\\n89304    0\\nName: RegionName, Length: 89305, dtype: object',\n",
       "       'MYS0        0\\n1        0\\n2        0\\n3        0\\n4        0\\n        ..\\n89300    0\\n89301    0\\n89302    0\\n89303    0\\n89304    0\\nName: RegionName, Length: 89305, dtype: object',\n",
       "       'NAM0        0\\n1        0\\n2        0\\n3        0\\n4        0\\n        ..\\n89300    0\\n89301    0\\n89302    0\\n89303    0\\n89304    0\\nName: RegionName, Length: 89305, dtype: object',\n",
       "       'NER0        0\\n1        0\\n2        0\\n3        0\\n4        0\\n        ..\\n89300    0\\n89301    0\\n89302    0\\n89303    0\\n89304    0\\nName: RegionName, Length: 89305, dtype: object',\n",
       "       'NGA0        0\\n1        0\\n2        0\\n3        0\\n4        0\\n        ..\\n89300    0\\n89301    0\\n89302    0\\n89303    0\\n89304    0\\nName: RegionName, Length: 89305, dtype: object',\n",
       "       'NIC0        0\\n1        0\\n2        0\\n3        0\\n4        0\\n        ..\\n89300    0\\n89301    0\\n89302    0\\n89303    0\\n89304    0\\nName: RegionName, Length: 89305, dtype: object',\n",
       "       'NLD0        0\\n1        0\\n2        0\\n3        0\\n4        0\\n        ..\\n89300    0\\n89301    0\\n89302    0\\n89303    0\\n89304    0\\nName: RegionName, Length: 89305, dtype: object',\n",
       "       'NOR0        0\\n1        0\\n2        0\\n3        0\\n4        0\\n        ..\\n89300    0\\n89301    0\\n89302    0\\n89303    0\\n89304    0\\nName: RegionName, Length: 89305, dtype: object',\n",
       "       'NPL0        0\\n1        0\\n2        0\\n3        0\\n4        0\\n        ..\\n89300    0\\n89301    0\\n89302    0\\n89303    0\\n89304    0\\nName: RegionName, Length: 89305, dtype: object',\n",
       "       'NZL0        0\\n1        0\\n2        0\\n3        0\\n4        0\\n        ..\\n89300    0\\n89301    0\\n89302    0\\n89303    0\\n89304    0\\nName: RegionName, Length: 89305, dtype: object',\n",
       "       'OMN0        0\\n1        0\\n2        0\\n3        0\\n4        0\\n        ..\\n89300    0\\n89301    0\\n89302    0\\n89303    0\\n89304    0\\nName: RegionName, Length: 89305, dtype: object',\n",
       "       'PAK0        0\\n1        0\\n2        0\\n3        0\\n4        0\\n        ..\\n89300    0\\n89301    0\\n89302    0\\n89303    0\\n89304    0\\nName: RegionName, Length: 89305, dtype: object',\n",
       "       'PAN0        0\\n1        0\\n2        0\\n3        0\\n4        0\\n        ..\\n89300    0\\n89301    0\\n89302    0\\n89303    0\\n89304    0\\nName: RegionName, Length: 89305, dtype: object',\n",
       "       'PER0        0\\n1        0\\n2        0\\n3        0\\n4        0\\n        ..\\n89300    0\\n89301    0\\n89302    0\\n89303    0\\n89304    0\\nName: RegionName, Length: 89305, dtype: object',\n",
       "       'PHL0        0\\n1        0\\n2        0\\n3        0\\n4        0\\n        ..\\n89300    0\\n89301    0\\n89302    0\\n89303    0\\n89304    0\\nName: RegionName, Length: 89305, dtype: object',\n",
       "       'PNG0        0\\n1        0\\n2        0\\n3        0\\n4        0\\n        ..\\n89300    0\\n89301    0\\n89302    0\\n89303    0\\n89304    0\\nName: RegionName, Length: 89305, dtype: object',\n",
       "       'POL0        0\\n1        0\\n2        0\\n3        0\\n4        0\\n        ..\\n89300    0\\n89301    0\\n89302    0\\n89303    0\\n89304    0\\nName: RegionName, Length: 89305, dtype: object',\n",
       "       'PRI0        0\\n1        0\\n2        0\\n3        0\\n4        0\\n        ..\\n89300    0\\n89301    0\\n89302    0\\n89303    0\\n89304    0\\nName: RegionName, Length: 89305, dtype: object',\n",
       "       'PRT0        0\\n1        0\\n2        0\\n3        0\\n4        0\\n        ..\\n89300    0\\n89301    0\\n89302    0\\n89303    0\\n89304    0\\nName: RegionName, Length: 89305, dtype: object',\n",
       "       'PRY0        0\\n1        0\\n2        0\\n3        0\\n4        0\\n        ..\\n89300    0\\n89301    0\\n89302    0\\n89303    0\\n89304    0\\nName: RegionName, Length: 89305, dtype: object',\n",
       "       'PSE0        0\\n1        0\\n2        0\\n3        0\\n4        0\\n        ..\\n89300    0\\n89301    0\\n89302    0\\n89303    0\\n89304    0\\nName: RegionName, Length: 89305, dtype: object',\n",
       "       'QAT0        0\\n1        0\\n2        0\\n3        0\\n4        0\\n        ..\\n89300    0\\n89301    0\\n89302    0\\n89303    0\\n89304    0\\nName: RegionName, Length: 89305, dtype: object',\n",
       "       'RKS0        0\\n1        0\\n2        0\\n3        0\\n4        0\\n        ..\\n89300    0\\n89301    0\\n89302    0\\n89303    0\\n89304    0\\nName: RegionName, Length: 89305, dtype: object',\n",
       "       'ROU0        0\\n1        0\\n2        0\\n3        0\\n4        0\\n        ..\\n89300    0\\n89301    0\\n89302    0\\n89303    0\\n89304    0\\nName: RegionName, Length: 89305, dtype: object',\n",
       "       'RUS0        0\\n1        0\\n2        0\\n3        0\\n4        0\\n        ..\\n89300    0\\n89301    0\\n89302    0\\n89303    0\\n89304    0\\nName: RegionName, Length: 89305, dtype: object',\n",
       "       'RWA0        0\\n1        0\\n2        0\\n3        0\\n4        0\\n        ..\\n89300    0\\n89301    0\\n89302    0\\n89303    0\\n89304    0\\nName: RegionName, Length: 89305, dtype: object',\n",
       "       'SAU0        0\\n1        0\\n2        0\\n3        0\\n4        0\\n        ..\\n89300    0\\n89301    0\\n89302    0\\n89303    0\\n89304    0\\nName: RegionName, Length: 89305, dtype: object',\n",
       "       'SDN0        0\\n1        0\\n2        0\\n3        0\\n4        0\\n        ..\\n89300    0\\n89301    0\\n89302    0\\n89303    0\\n89304    0\\nName: RegionName, Length: 89305, dtype: object',\n",
       "       'SEN0        0\\n1        0\\n2        0\\n3        0\\n4        0\\n        ..\\n89300    0\\n89301    0\\n89302    0\\n89303    0\\n89304    0\\nName: RegionName, Length: 89305, dtype: object',\n",
       "       'SGP0        0\\n1        0\\n2        0\\n3        0\\n4        0\\n        ..\\n89300    0\\n89301    0\\n89302    0\\n89303    0\\n89304    0\\nName: RegionName, Length: 89305, dtype: object',\n",
       "       'SLB0        0\\n1        0\\n2        0\\n3        0\\n4        0\\n        ..\\n89300    0\\n89301    0\\n89302    0\\n89303    0\\n89304    0\\nName: RegionName, Length: 89305, dtype: object',\n",
       "       'SLE0        0\\n1        0\\n2        0\\n3        0\\n4        0\\n        ..\\n89300    0\\n89301    0\\n89302    0\\n89303    0\\n89304    0\\nName: RegionName, Length: 89305, dtype: object',\n",
       "       'SLV0        0\\n1        0\\n2        0\\n3        0\\n4        0\\n        ..\\n89300    0\\n89301    0\\n89302    0\\n89303    0\\n89304    0\\nName: RegionName, Length: 89305, dtype: object',\n",
       "       'SMR0        0\\n1        0\\n2        0\\n3        0\\n4        0\\n        ..\\n89300    0\\n89301    0\\n89302    0\\n89303    0\\n89304    0\\nName: RegionName, Length: 89305, dtype: object',\n",
       "       'SOM0        0\\n1        0\\n2        0\\n3        0\\n4        0\\n        ..\\n89300    0\\n89301    0\\n89302    0\\n89303    0\\n89304    0\\nName: RegionName, Length: 89305, dtype: object',\n",
       "       'SRB0        0\\n1        0\\n2        0\\n3        0\\n4        0\\n        ..\\n89300    0\\n89301    0\\n89302    0\\n89303    0\\n89304    0\\nName: RegionName, Length: 89305, dtype: object',\n",
       "       'SSD0        0\\n1        0\\n2        0\\n3        0\\n4        0\\n        ..\\n89300    0\\n89301    0\\n89302    0\\n89303    0\\n89304    0\\nName: RegionName, Length: 89305, dtype: object',\n",
       "       'SUR0        0\\n1        0\\n2        0\\n3        0\\n4        0\\n        ..\\n89300    0\\n89301    0\\n89302    0\\n89303    0\\n89304    0\\nName: RegionName, Length: 89305, dtype: object',\n",
       "       'SVK0        0\\n1        0\\n2        0\\n3        0\\n4        0\\n        ..\\n89300    0\\n89301    0\\n89302    0\\n89303    0\\n89304    0\\nName: RegionName, Length: 89305, dtype: object',\n",
       "       'SVN0        0\\n1        0\\n2        0\\n3        0\\n4        0\\n        ..\\n89300    0\\n89301    0\\n89302    0\\n89303    0\\n89304    0\\nName: RegionName, Length: 89305, dtype: object',\n",
       "       'SWE0        0\\n1        0\\n2        0\\n3        0\\n4        0\\n        ..\\n89300    0\\n89301    0\\n89302    0\\n89303    0\\n89304    0\\nName: RegionName, Length: 89305, dtype: object',\n",
       "       'SWZ0        0\\n1        0\\n2        0\\n3        0\\n4        0\\n        ..\\n89300    0\\n89301    0\\n89302    0\\n89303    0\\n89304    0\\nName: RegionName, Length: 89305, dtype: object',\n",
       "       'SYC0        0\\n1        0\\n2        0\\n3        0\\n4        0\\n        ..\\n89300    0\\n89301    0\\n89302    0\\n89303    0\\n89304    0\\nName: RegionName, Length: 89305, dtype: object',\n",
       "       'SYR0        0\\n1        0\\n2        0\\n3        0\\n4        0\\n        ..\\n89300    0\\n89301    0\\n89302    0\\n89303    0\\n89304    0\\nName: RegionName, Length: 89305, dtype: object',\n",
       "       'TCD0        0\\n1        0\\n2        0\\n3        0\\n4        0\\n        ..\\n89300    0\\n89301    0\\n89302    0\\n89303    0\\n89304    0\\nName: RegionName, Length: 89305, dtype: object',\n",
       "       'TGO0        0\\n1        0\\n2        0\\n3        0\\n4        0\\n        ..\\n89300    0\\n89301    0\\n89302    0\\n89303    0\\n89304    0\\nName: RegionName, Length: 89305, dtype: object',\n",
       "       'THA0        0\\n1        0\\n2        0\\n3        0\\n4        0\\n        ..\\n89300    0\\n89301    0\\n89302    0\\n89303    0\\n89304    0\\nName: RegionName, Length: 89305, dtype: object',\n",
       "       'TJK0        0\\n1        0\\n2        0\\n3        0\\n4        0\\n        ..\\n89300    0\\n89301    0\\n89302    0\\n89303    0\\n89304    0\\nName: RegionName, Length: 89305, dtype: object',\n",
       "       'TKM0        0\\n1        0\\n2        0\\n3        0\\n4        0\\n        ..\\n89300    0\\n89301    0\\n89302    0\\n89303    0\\n89304    0\\nName: RegionName, Length: 89305, dtype: object',\n",
       "       'TLS0        0\\n1        0\\n2        0\\n3        0\\n4        0\\n        ..\\n89300    0\\n89301    0\\n89302    0\\n89303    0\\n89304    0\\nName: RegionName, Length: 89305, dtype: object',\n",
       "       'TTO0        0\\n1        0\\n2        0\\n3        0\\n4        0\\n        ..\\n89300    0\\n89301    0\\n89302    0\\n89303    0\\n89304    0\\nName: RegionName, Length: 89305, dtype: object',\n",
       "       'TUN0        0\\n1        0\\n2        0\\n3        0\\n4        0\\n        ..\\n89300    0\\n89301    0\\n89302    0\\n89303    0\\n89304    0\\nName: RegionName, Length: 89305, dtype: object',\n",
       "       'TUR0        0\\n1        0\\n2        0\\n3        0\\n4        0\\n        ..\\n89300    0\\n89301    0\\n89302    0\\n89303    0\\n89304    0\\nName: RegionName, Length: 89305, dtype: object',\n",
       "       'TWN0        0\\n1        0\\n2        0\\n3        0\\n4        0\\n        ..\\n89300    0\\n89301    0\\n89302    0\\n89303    0\\n89304    0\\nName: RegionName, Length: 89305, dtype: object',\n",
       "       'TZA0        0\\n1        0\\n2        0\\n3        0\\n4        0\\n        ..\\n89300    0\\n89301    0\\n89302    0\\n89303    0\\n89304    0\\nName: RegionName, Length: 89305, dtype: object',\n",
       "       'UGA0        0\\n1        0\\n2        0\\n3        0\\n4        0\\n        ..\\n89300    0\\n89301    0\\n89302    0\\n89303    0\\n89304    0\\nName: RegionName, Length: 89305, dtype: object',\n",
       "       'UKR0        0\\n1        0\\n2        0\\n3        0\\n4        0\\n        ..\\n89300    0\\n89301    0\\n89302    0\\n89303    0\\n89304    0\\nName: RegionName, Length: 89305, dtype: object',\n",
       "       'URY0        0\\n1        0\\n2        0\\n3        0\\n4        0\\n        ..\\n89300    0\\n89301    0\\n89302    0\\n89303    0\\n89304    0\\nName: RegionName, Length: 89305, dtype: object',\n",
       "       'USA0        0\\n1        0\\n2        0\\n3        0\\n4        0\\n        ..\\n89300    0\\n89301    0\\n89302    0\\n89303    0\\n89304    0\\nName: RegionName, Length: 89305, dtype: object',\n",
       "       'UZB0        0\\n1        0\\n2        0\\n3        0\\n4        0\\n        ..\\n89300    0\\n89301    0\\n89302    0\\n89303    0\\n89304    0\\nName: RegionName, Length: 89305, dtype: object',\n",
       "       'VEN0        0\\n1        0\\n2        0\\n3        0\\n4        0\\n        ..\\n89300    0\\n89301    0\\n89302    0\\n89303    0\\n89304    0\\nName: RegionName, Length: 89305, dtype: object',\n",
       "       'VIR0        0\\n1        0\\n2        0\\n3        0\\n4        0\\n        ..\\n89300    0\\n89301    0\\n89302    0\\n89303    0\\n89304    0\\nName: RegionName, Length: 89305, dtype: object',\n",
       "       'VNM0        0\\n1        0\\n2        0\\n3        0\\n4        0\\n        ..\\n89300    0\\n89301    0\\n89302    0\\n89303    0\\n89304    0\\nName: RegionName, Length: 89305, dtype: object',\n",
       "       'VUT0        0\\n1        0\\n2        0\\n3        0\\n4        0\\n        ..\\n89300    0\\n89301    0\\n89302    0\\n89303    0\\n89304    0\\nName: RegionName, Length: 89305, dtype: object',\n",
       "       'YEM0        0\\n1        0\\n2        0\\n3        0\\n4        0\\n        ..\\n89300    0\\n89301    0\\n89302    0\\n89303    0\\n89304    0\\nName: RegionName, Length: 89305, dtype: object',\n",
       "       'ZAF0        0\\n1        0\\n2        0\\n3        0\\n4        0\\n        ..\\n89300    0\\n89301    0\\n89302    0\\n89303    0\\n89304    0\\nName: RegionName, Length: 89305, dtype: object',\n",
       "       'ZMB0        0\\n1        0\\n2        0\\n3        0\\n4        0\\n        ..\\n89300    0\\n89301    0\\n89302    0\\n89303    0\\n89304    0\\nName: RegionName, Length: 89305, dtype: object',\n",
       "       'ZWE0        0\\n1        0\\n2        0\\n3        0\\n4        0\\n        ..\\n89300    0\\n89301    0\\n89302    0\\n89303    0\\n89304    0\\nName: RegionName, Length: 89305, dtype: object'],\n",
       "      dtype=object)"
      ]
     },
     "execution_count": 53,
     "metadata": {},
     "output_type": "execute_result"
    }
   ],
   "source": [
    "\n"
   ]
  },
  {
   "cell_type": "code",
   "execution_count": null,
   "metadata": {
    "collapsed": false
   },
   "outputs": [],
   "source": []
  }
 ],
 "metadata": {
  "kernelspec": {
   "argv": [
    "/usr/bin/python3",
    "-m",
    "ipykernel_launcher",
    "-f",
    "{connection_file}"
   ],
   "display_name": "Python 3",
   "env": null,
   "interrupt_mode": "signal",
   "language": "python",
   "metadata": null,
   "name": "python3"
  },
  "name": "analysis.ipynb"
 },
 "nbformat": 4,
 "nbformat_minor": 4
}
