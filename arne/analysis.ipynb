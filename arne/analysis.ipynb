{
 "cells": [
  {
   "cell_type": "code",
   "execution_count": null,
   "metadata": {
    "collapsed": false
   },
   "outputs": [],
   "source": [
    "    "
   ]
  },
  {
   "cell_type": "code",
   "execution_count": 1,
   "metadata": {
    "collapsed": false
   },
   "outputs": [],
   "source": [
    "import seaborn as sns\n",
    "import numpy as np\n",
    "import matplotlib.pyplot as plt\n",
    "import re\n",
    "import pandas as pd\n"
   ]
  },
  {
   "cell_type": "code",
   "execution_count": 4,
   "metadata": {
    "collapsed": false
   },
   "outputs": [],
   "source": [
    "import sklearn\n",
    "from sklearn.linear_model import LinearRegression\n",
    "#rom sklearn.ensemble import RandomForestClassifier\n",
    "#from sklearn.linear_model import LassoLars\n",
    "\n",
    "#from sklearn.linear_model import TweedieRegressor\n",
    "\n",
    "from sklearn.linear_model import (\n",
    "    LinearRegression, TheilSenRegressor, RANSACRegressor, HuberRegressor)\n",
    "from sklearn.metrics import mean_squared_error\n",
    "from sklearn.preprocessing import PolynomialFeatures\n",
    "from sklearn.pipeline import make_pipeline"
   ]
  },
  {
   "cell_type": "code",
   "execution_count": 5,
   "metadata": {
    "collapsed": false
   },
   "outputs": [],
   "source": [
    "sns.set(style=\"whitegrid\")\n"
   ]
  },
  {
   "cell_type": "code",
   "execution_count": 6,
   "metadata": {
    "collapsed": false
   },
   "outputs": [
    {
     "name": "stderr",
     "output_type": "stream",
     "text": [
      "/Users/arnee/anaconda3/lib/python3.6/site-packages/IPython/core/interactiveshell.py:2728: DtypeWarning: Columns (3,4) have mixed types. Specify dtype option on import or set low_memory=False.\n",
      "  interactivity=interactivity, compiler=compiler, result=result)\n"
     ]
    }
   ],
   "source": [
    "df=pd.read_csv(\"~/git/xprize_covid/data/adjusted_data.csv\",sep=\",\")\n"
   ]
  },
  {
   "cell_type": "code",
   "execution_count": 7,
   "metadata": {
    "collapsed": false
   },
   "outputs": [
    {
     "data": {
      "text/plain": [
       "Index(['Unnamed: 0', 'CountryName', 'CountryCode', 'RegionName', 'RegionCode',\n",
       "       'Jurisdiction', 'Date', 'C1_School closing', 'C1_Flag',\n",
       "       'C2_Workplace closing', 'C2_Flag', 'C3_Cancel public events', 'C3_Flag',\n",
       "       'C4_Restrictions on gatherings', 'C4_Flag', 'C5_Close public transport',\n",
       "       'C5_Flag', 'C6_Stay at home requirements', 'C6_Flag',\n",
       "       'C7_Restrictions on internal movement', 'C7_Flag',\n",
       "       'C8_International travel controls', 'E1_Income support', 'E1_Flag',\n",
       "       'E2_Debt/contract relief', 'E3_Fiscal measures',\n",
       "       'E4_International support', 'H1_Public information campaigns',\n",
       "       'H1_Flag', 'H2_Testing policy', 'H3_Contact tracing',\n",
       "       'H4_Emergency investment in healthcare', 'H5_Investment in vaccines',\n",
       "       'H6_Facial Coverings', 'H6_Flag', 'M1_Wildcard', 'ConfirmedCases',\n",
       "       'ConfirmedDeaths', 'StringencyIndex', 'StringencyIndexForDisplay',\n",
       "       'StringencyLegacyIndex', 'StringencyLegacyIndexForDisplay',\n",
       "       'GovernmentResponseIndex', 'GovernmentResponseIndexForDisplay',\n",
       "       'ContainmentHealthIndex', 'ContainmentHealthIndexForDisplay',\n",
       "       'EconomicSupportIndex', 'EconomicSupportIndexForDisplay',\n",
       "       'Country_index', 'Region_index', 'smoothed_cases',\n",
       "       'cumulative_smoothed_cases', 'smoothed_deaths', 'rescaled_cases',\n",
       "       'cumulative_rescaled_cases', 'death_to_case_scale', 'case_death_delay',\n",
       "       'gross_net_income', 'population_density', 'Month',\n",
       "       'monthly_temperature', 'retail_and_recreation', 'grocery_and_pharmacy',\n",
       "       'parks', 'transit_stations', 'workplaces', 'residential', 'pdi', 'idv',\n",
       "       'mas', 'uai', 'ltowvs', 'ivr', 'population', 'PC1', 'PC2'],\n",
       "      dtype='object')"
      ]
     },
     "execution_count": 7,
     "metadata": {},
     "output_type": "execute_result"
    }
   ],
   "source": [
    "df.keys()"
   ]
  },
  {
   "cell_type": "code",
   "execution_count": null,
   "metadata": {
    "collapsed": false
   },
   "outputs": [],
   "source": []
  },
  {
   "cell_type": "code",
   "execution_count": 8,
   "metadata": {
    "collapsed": false
   },
   "outputs": [
    {
     "data": {
      "text/html": [
       "<div>\n",
       "<style scoped>\n",
       "    .dataframe tbody tr th:only-of-type {\n",
       "        vertical-align: middle;\n",
       "    }\n",
       "\n",
       "    .dataframe tbody tr th {\n",
       "        vertical-align: top;\n",
       "    }\n",
       "\n",
       "    .dataframe thead th {\n",
       "        text-align: right;\n",
       "    }\n",
       "</style>\n",
       "<table border=\"1\" class=\"dataframe\">\n",
       "  <thead>\n",
       "    <tr style=\"text-align: right;\">\n",
       "      <th></th>\n",
       "      <th>cumulative_smoothed_cases</th>\n",
       "      <th>ConfirmedCases</th>\n",
       "    </tr>\n",
       "  </thead>\n",
       "  <tbody>\n",
       "    <tr>\n",
       "      <td>62530</td>\n",
       "      <td>0.000000</td>\n",
       "      <td>0.0</td>\n",
       "    </tr>\n",
       "    <tr>\n",
       "      <td>62531</td>\n",
       "      <td>0.000000</td>\n",
       "      <td>0.0</td>\n",
       "    </tr>\n",
       "    <tr>\n",
       "      <td>62532</td>\n",
       "      <td>0.000000</td>\n",
       "      <td>0.0</td>\n",
       "    </tr>\n",
       "    <tr>\n",
       "      <td>62533</td>\n",
       "      <td>0.000000</td>\n",
       "      <td>0.0</td>\n",
       "    </tr>\n",
       "    <tr>\n",
       "      <td>62534</td>\n",
       "      <td>0.000000</td>\n",
       "      <td>0.0</td>\n",
       "    </tr>\n",
       "    <tr>\n",
       "      <td>...</td>\n",
       "      <td>...</td>\n",
       "      <td>...</td>\n",
       "    </tr>\n",
       "    <tr>\n",
       "      <td>62863</td>\n",
       "      <td>232873.000000</td>\n",
       "      <td>243129.0</td>\n",
       "    </tr>\n",
       "    <tr>\n",
       "      <td>62864</td>\n",
       "      <td>237849.285714</td>\n",
       "      <td>243129.0</td>\n",
       "    </tr>\n",
       "    <tr>\n",
       "      <td>62865</td>\n",
       "      <td>242877.571429</td>\n",
       "      <td>260758.0</td>\n",
       "    </tr>\n",
       "    <tr>\n",
       "      <td>62866</td>\n",
       "      <td>247969.571429</td>\n",
       "      <td>266158.0</td>\n",
       "    </tr>\n",
       "    <tr>\n",
       "      <td>62867</td>\n",
       "      <td>252227.142857</td>\n",
       "      <td>0.0</td>\n",
       "    </tr>\n",
       "  </tbody>\n",
       "</table>\n",
       "<p>338 rows × 2 columns</p>\n",
       "</div>"
      ],
      "text/plain": [
       "       cumulative_smoothed_cases  ConfirmedCases\n",
       "62530                   0.000000             0.0\n",
       "62531                   0.000000             0.0\n",
       "62532                   0.000000             0.0\n",
       "62533                   0.000000             0.0\n",
       "62534                   0.000000             0.0\n",
       "...                          ...             ...\n",
       "62863              232873.000000        243129.0\n",
       "62864              237849.285714        243129.0\n",
       "62865              242877.571429        260758.0\n",
       "62866              247969.571429        266158.0\n",
       "62867              252227.142857             0.0\n",
       "\n",
       "[338 rows x 2 columns]"
      ]
     },
     "execution_count": 8,
     "metadata": {},
     "output_type": "execute_result"
    }
   ],
   "source": [
    "df[(df.CountryName==\"Sweden\" )][[\"cumulative_smoothed_cases\",\"ConfirmedCases\"]]"
   ]
  },
  {
   "cell_type": "code",
   "execution_count": 12,
   "metadata": {
    "collapsed": false
   },
   "outputs": [],
   "source": [
    "df.RegionName.replace(\"0\",\"\",inplace=True)\n",
    "df.RegionCode.replace(\"0\",\"\",inplace=True)\n",
    "df.RegionName.replace(0,\"\",inplace=True)\n",
    "df.RegionCode.replace(0,\"\",inplace=True)\n",
    "\n",
    "#df[df.CountryName==\"Aruba\"][[\"RegionName\",\"RegionCode\"]]"
   ]
  },
  {
   "cell_type": "code",
   "execution_count": 13,
   "metadata": {
    "collapsed": false
   },
   "outputs": [
    {
     "data": {
      "text/plain": [
       "array(['Aruba', 'Afghanistan', 'Angola', 'Albania', 'Andorra',\n",
       "       'United Arab Emirates', 'Argentina', 'Australia', 'Austria',\n",
       "       'Azerbaijan', 'Burundi', 'Belgium', 'Benin', 'Burkina Faso',\n",
       "       'Bangladesh', 'Bulgaria', 'Bahrain', 'Bahamas',\n",
       "       'Bosnia and Herzegovina', 'Belarus', 'Belize', 'Bermuda',\n",
       "       'Bolivia', 'BrazilAcre', 'BrazilAlagoas', 'BrazilAmazonas',\n",
       "       'BrazilAmapa', 'BrazilBahia', 'BrazilCeara',\n",
       "       'BrazilDistrito Federal', 'BrazilEspirito Santo', 'BrazilGoias',\n",
       "       'BrazilMaranhao', 'BrazilMinas Gerais', 'BrazilMato Grosso do Sul',\n",
       "       'BrazilMato Grosso', 'BrazilPara', 'BrazilParaiba',\n",
       "       'BrazilPernambuco', 'BrazilPiaui', 'BrazilParana',\n",
       "       'BrazilRio de Janeiro', 'BrazilRio Grande do Norte',\n",
       "       'BrazilRondonia', 'BrazilRoraima', 'BrazilRio Grande do Sul',\n",
       "       'BrazilSanta Catarina', 'BrazilSergipe', 'BrazilSao Paulo',\n",
       "       'BrazilTocantins', 'Brazil', 'Barbados', 'Brunei', 'Bhutan',\n",
       "       'Botswana', 'Central African Republic', 'Canada', 'Switzerland',\n",
       "       'Chile', 'China', \"Cote d'Ivoire\", 'Cameroon',\n",
       "       'Democratic Republic of Congo', 'Congo', 'Colombia', 'Comoros',\n",
       "       'Cape Verde', 'Costa Rica', 'Cuba', 'Cyprus', 'Czech Republic',\n",
       "       'Germany', 'Djibouti', 'Dominica', 'Denmark', 'Dominican Republic',\n",
       "       'Algeria', 'Ecuador', 'Egypt', 'Eritrea', 'Spain', 'Estonia',\n",
       "       'Ethiopia', 'Finland', 'Fiji', 'France', 'Faeroe Islands', 'Gabon',\n",
       "       'United Kingdom', 'United KingdomEngland',\n",
       "       'United KingdomNorthern Ireland', 'United KingdomScotland',\n",
       "       'United KingdomWales', 'Georgia', 'Ghana', 'Guinea', 'Gambia',\n",
       "       'Greece', 'Greenland', 'Guatemala', 'Guam', 'Guyana', 'Hong Kong',\n",
       "       'Honduras', 'Croatia', 'Haiti', 'Hungary', 'Indonesia', 'India',\n",
       "       'Ireland', 'Iran', 'Iraq', 'Iceland', 'Israel', 'Italy', 'Jamaica',\n",
       "       'Jordan', 'Japan', 'Kazakhstan', 'Kenya', 'Kyrgyz Republic',\n",
       "       'Cambodia', 'South Korea', 'Kuwait', 'Laos', 'Lebanon', 'Liberia',\n",
       "       'Libya', 'Sri Lanka', 'Lesotho', 'Lithuania', 'Luxembourg',\n",
       "       'Latvia', 'Macao', 'Morocco', 'Monaco', 'Moldova', 'Madagascar',\n",
       "       'Mexico', 'Mali', 'Myanmar', 'Mongolia', 'Mozambique',\n",
       "       'Mauritania', 'Mauritius', 'Malawi', 'Malaysia', 'Namibia',\n",
       "       'Niger', 'Nigeria', 'Nicaragua', 'Netherlands', 'Norway', 'Nepal',\n",
       "       'New Zealand', 'Oman', 'Pakistan', 'Panama', 'Peru', 'Philippines',\n",
       "       'Papua New Guinea', 'Poland', 'Puerto Rico', 'Portugal',\n",
       "       'Paraguay', 'Palestine', 'Qatar', 'Kosovo', 'Romania', 'Russia',\n",
       "       'Rwanda', 'Saudi Arabia', 'Sudan', 'Senegal', 'Singapore',\n",
       "       'Solomon Islands', 'Sierra Leone', 'El Salvador', 'San Marino',\n",
       "       'Somalia', 'Serbia', 'South Sudan', 'Suriname', 'Slovak Republic',\n",
       "       'Slovenia', 'Sweden', 'Eswatini', 'Seychelles', 'Syria', 'Chad',\n",
       "       'Togo', 'Thailand', 'Tajikistan', 'Turkmenistan', 'Timor-Leste',\n",
       "       'Trinidad and Tobago', 'Tunisia', 'Turkey', 'Taiwan', 'Tanzania',\n",
       "       'Uganda', 'Ukraine', 'Uruguay', 'United States',\n",
       "       'United StatesAlaska', 'United StatesAlabama',\n",
       "       'United StatesArkansas', 'United StatesArizona',\n",
       "       'United StatesCalifornia', 'United StatesColorado',\n",
       "       'United StatesConnecticut', 'United StatesWashington DC',\n",
       "       'United StatesDelaware', 'United StatesFlorida',\n",
       "       'United StatesGeorgia', 'United StatesHawaii', 'United StatesIowa',\n",
       "       'United StatesIdaho', 'United StatesIllinois',\n",
       "       'United StatesIndiana', 'United StatesKansas',\n",
       "       'United StatesKentucky', 'United StatesLouisiana',\n",
       "       'United StatesMassachusetts', 'United StatesMaryland',\n",
       "       'United StatesMaine', 'United StatesMichigan',\n",
       "       'United StatesMinnesota', 'United StatesMissouri',\n",
       "       'United StatesMississippi', 'United StatesMontana',\n",
       "       'United StatesNorth Carolina', 'United StatesNorth Dakota',\n",
       "       'United StatesNebraska', 'United StatesNew Hampshire',\n",
       "       'United StatesNew Jersey', 'United StatesNew Mexico',\n",
       "       'United StatesNevada', 'United StatesNew York',\n",
       "       'United StatesOhio', 'United StatesOklahoma',\n",
       "       'United StatesOregon', 'United StatesPennsylvania',\n",
       "       'United StatesRhode Island', 'United StatesSouth Carolina',\n",
       "       'United StatesSouth Dakota', 'United StatesTennessee',\n",
       "       'United StatesTexas', 'United StatesUtah', 'United StatesVirginia',\n",
       "       'United StatesVirgin Islands', 'United StatesVermont',\n",
       "       'United StatesWashington', 'United StatesWisconsin',\n",
       "       'United StatesWest Virginia', 'United StatesWyoming', 'Uzbekistan',\n",
       "       'Venezuela', 'United States Virgin Islands', 'Vietnam', 'Vanuatu',\n",
       "       'Yemen', 'South Africa', 'Zambia', 'Zimbabwe'], dtype=object)"
      ]
     },
     "execution_count": 13,
     "metadata": {},
     "output_type": "execute_result"
    }
   ],
   "source": [
    "df[\"country\"]=df.CountryName+df.RegionName\n",
    "casecolumns=[\"smoothed_deaths\",\"smoothed_cases\"]\n",
    "tiny=1.e-20\n",
    "countries=df[\"country\"].unique()\n",
    "countries"
   ]
  },
  {
   "cell_type": "code",
   "execution_count": 14,
   "metadata": {
    "collapsed": false
   },
   "outputs": [
    {
     "data": {
      "text/plain": [
       "0         0.0\n",
       "1         0.0\n",
       "2         0.0\n",
       "3         0.0\n",
       "4         0.0\n",
       "         ... \n",
       "89565    21.0\n",
       "89566    21.0\n",
       "89567     0.0\n",
       "89568     0.0\n",
       "89569     0.0\n",
       "Name: AnyIntervention, Length: 89570, dtype: float64"
      ]
     },
     "execution_count": 14,
     "metadata": {},
     "output_type": "execute_result"
    }
   ],
   "source": [
    "interventions=['C1_School closing', 'C1_Flag',\n",
    "       'C2_Workplace closing', 'C2_Flag', 'C3_Cancel public events', 'C3_Flag',\n",
    "       'C4_Restrictions on gatherings', 'C4_Flag', 'C5_Close public transport',\n",
    "       'C5_Flag', 'C6_Stay at home requirements', 'C6_Flag',\n",
    "       'C7_Restrictions on internal movement', 'C7_Flag',\n",
    "       'C8_International travel controls', 'E1_Income support', 'E1_Flag',\n",
    "       'E2_Debt/contract relief', 'E3_Fiscal measures',\n",
    "       'E4_International support', 'H1_Public information campaigns',\n",
    "       'H1_Flag', 'H2_Testing policy', 'H3_Contact tracing',\n",
    "       'H4_Emergency investment in healthcare', 'H5_Investment in vaccines',\n",
    "       'H6_Facial Coverings', 'H6_Flag'] # , 'M1_Wildcard']\n",
    "\n",
    "interventions=['C1_School closing', 'C1_Flag',\n",
    "       'C2_Workplace closing', 'C2_Flag', 'C3_Cancel public events', 'C3_Flag',\n",
    "       'C4_Restrictions on gatherings', 'C4_Flag', 'C5_Close public transport',\n",
    "       'C5_Flag', 'C6_Stay at home requirements', 'C6_Flag',\n",
    "       'C7_Restrictions on internal movement', 'C7_Flag',\n",
    "       'C8_International travel controls']\n",
    "\n",
    "df[\"AnyIntervention\"]=df[interventions].sum(axis=1)\n",
    "df[\"AnyIntervention\"]"
   ]
  },
  {
   "cell_type": "code",
   "execution_count": 15,
   "metadata": {
    "collapsed": false
   },
   "outputs": [],
   "source": [
    "merged_df = pd.DataFrame([])\n",
    "for country in countries:\n",
    "    #print (country)\n",
    "    temp_df=df.loc[df.country==country].reset_index()\n",
    "    for key in casecolumns:\n",
    "        #print (key)\n",
    "        temp_df[key+\"_diff7\"]=temp_df[key].diff(7)\n",
    "        temp_df[key+\"_diff30\"]=temp_df[key].diff(30)\n",
    "        temp_df[key+\"_ratio7\"]=(tiny+temp_df[key+\"_diff7\"])/(temp_df[key]+tiny)\n",
    "        temp_df[key+\"_slope7\"]=temp_df[key+\"_diff7\"]/(temp_df[key].max())\n",
    "        temp_df[key+\"_ratio30\"]=(tiny+temp_df[key+\"_diff7\"])/(temp_df[key]+tiny)\n",
    "        temp_df[key+\"_slope30\"]=temp_df[key+\"_diff7\"]/(temp_df[key].max())\n",
    "        temp_df[key+\"_diff-7\"]=temp_df[key].diff(periods=-7)\n",
    "        temp_df[key+\"_diff-30\"]=temp_df[key].diff(periods=-30)\n",
    "        temp_df[key+\"_ratio-7\"]=(tiny+temp_df[key+\"_diff-7\"])/(temp_df[key]+tiny)\n",
    "        temp_df[key+\"_slope-7\"]=temp_df[key+\"_diff-7\"]/(temp_df[key].max())\n",
    "        temp_df[key+\"_ratio-30\"]=(tiny+temp_df[key+\"_diff-7\"])/(temp_df[key]+tiny)\n",
    "        temp_df[key+\"_slope-30\"]=temp_df[key+\"_diff-7\"]/(temp_df[key].max())\n",
    "        # Fix first 7 values\n",
    "        temp_df[key+\"_diff7\"].fillna(0)\n",
    "        temp_df[key+\"_ratio7\"].fillna(1)\n",
    "        temp_df[key+\"_slope7\"].fillna(0)\n",
    "        temp_df[key+\"_diff30\"].fillna(0)\n",
    "        temp_df[key+\"_ratio30\"].fillna(1)\n",
    "        temp_df[key+\"_slope30\"].fillna(0)\n",
    "        temp_df[key+\"_diff-7\"].fillna(0)\n",
    "        temp_df[key+\"_ratio-7\"].fillna(1)\n",
    "        temp_df[key+\"_slope-7\"].fillna(0)\n",
    "        temp_df[key+\"_diff-30\"].fillna(0)\n",
    "        temp_df[key+\"_ratio-30\"].fillna(1)\n",
    "        temp_df[key+\"_slope-30\"].fillna(0)\n",
    "    for key in interventions+[\"AnyIntervention\"]:\n",
    "        temp_df[key+\"_diff1\"]=temp_df[key].diff(1)\n",
    "        temp_df[key+\"_diff-1\"]=temp_df[key].diff(-1)\n",
    "    merged_df=pd.concat([merged_df, temp_df], ignore_index=True,sort=False)\n"
   ]
  },
  {
   "cell_type": "code",
   "execution_count": 16,
   "metadata": {
    "collapsed": false
   },
   "outputs": [
    {
     "data": {
      "text/html": [
       "<div>\n",
       "<style scoped>\n",
       "    .dataframe tbody tr th:only-of-type {\n",
       "        vertical-align: middle;\n",
       "    }\n",
       "\n",
       "    .dataframe tbody tr th {\n",
       "        vertical-align: top;\n",
       "    }\n",
       "\n",
       "    .dataframe thead th {\n",
       "        text-align: right;\n",
       "    }\n",
       "</style>\n",
       "<table border=\"1\" class=\"dataframe\">\n",
       "  <thead>\n",
       "    <tr style=\"text-align: right;\">\n",
       "      <th></th>\n",
       "      <th>Date</th>\n",
       "      <th>smoothed_deaths_diff7</th>\n",
       "      <th>smoothed_deaths_diff-7</th>\n",
       "      <th>AnyIntervention_diff1</th>\n",
       "    </tr>\n",
       "  </thead>\n",
       "  <tbody>\n",
       "    <tr>\n",
       "      <td>62537</td>\n",
       "      <td>2020-01-08</td>\n",
       "      <td>0.000000</td>\n",
       "      <td>0.000000</td>\n",
       "      <td>0.0</td>\n",
       "    </tr>\n",
       "    <tr>\n",
       "      <td>62538</td>\n",
       "      <td>2020-01-09</td>\n",
       "      <td>0.000000</td>\n",
       "      <td>0.000000</td>\n",
       "      <td>0.0</td>\n",
       "    </tr>\n",
       "    <tr>\n",
       "      <td>62539</td>\n",
       "      <td>2020-01-10</td>\n",
       "      <td>0.000000</td>\n",
       "      <td>0.000000</td>\n",
       "      <td>0.0</td>\n",
       "    </tr>\n",
       "    <tr>\n",
       "      <td>62540</td>\n",
       "      <td>2020-01-11</td>\n",
       "      <td>0.000000</td>\n",
       "      <td>0.000000</td>\n",
       "      <td>0.0</td>\n",
       "    </tr>\n",
       "    <tr>\n",
       "      <td>62541</td>\n",
       "      <td>2020-01-12</td>\n",
       "      <td>0.000000</td>\n",
       "      <td>0.000000</td>\n",
       "      <td>0.0</td>\n",
       "    </tr>\n",
       "    <tr>\n",
       "      <td>...</td>\n",
       "      <td>...</td>\n",
       "      <td>...</td>\n",
       "      <td>...</td>\n",
       "      <td>...</td>\n",
       "    </tr>\n",
       "    <tr>\n",
       "      <td>62856</td>\n",
       "      <td>2020-11-22</td>\n",
       "      <td>14.285714</td>\n",
       "      <td>-4.714286</td>\n",
       "      <td>0.0</td>\n",
       "    </tr>\n",
       "    <tr>\n",
       "      <td>62857</td>\n",
       "      <td>2020-11-23</td>\n",
       "      <td>14.285714</td>\n",
       "      <td>-4.714286</td>\n",
       "      <td>0.0</td>\n",
       "    </tr>\n",
       "    <tr>\n",
       "      <td>62858</td>\n",
       "      <td>2020-11-24</td>\n",
       "      <td>15.285714</td>\n",
       "      <td>-3.285714</td>\n",
       "      <td>1.0</td>\n",
       "    </tr>\n",
       "    <tr>\n",
       "      <td>62859</td>\n",
       "      <td>2020-11-25</td>\n",
       "      <td>-0.714286</td>\n",
       "      <td>-26.142857</td>\n",
       "      <td>0.0</td>\n",
       "    </tr>\n",
       "    <tr>\n",
       "      <td>62860</td>\n",
       "      <td>2020-11-26</td>\n",
       "      <td>9.142857</td>\n",
       "      <td>-9.714286</td>\n",
       "      <td>0.0</td>\n",
       "    </tr>\n",
       "  </tbody>\n",
       "</table>\n",
       "<p>324 rows × 4 columns</p>\n",
       "</div>"
      ],
      "text/plain": [
       "             Date  smoothed_deaths_diff7  smoothed_deaths_diff-7  \\\n",
       "62537  2020-01-08               0.000000                0.000000   \n",
       "62538  2020-01-09               0.000000                0.000000   \n",
       "62539  2020-01-10               0.000000                0.000000   \n",
       "62540  2020-01-11               0.000000                0.000000   \n",
       "62541  2020-01-12               0.000000                0.000000   \n",
       "...           ...                    ...                     ...   \n",
       "62856  2020-11-22              14.285714               -4.714286   \n",
       "62857  2020-11-23              14.285714               -4.714286   \n",
       "62858  2020-11-24              15.285714               -3.285714   \n",
       "62859  2020-11-25              -0.714286              -26.142857   \n",
       "62860  2020-11-26               9.142857               -9.714286   \n",
       "\n",
       "       AnyIntervention_diff1  \n",
       "62537                    0.0  \n",
       "62538                    0.0  \n",
       "62539                    0.0  \n",
       "62540                    0.0  \n",
       "62541                    0.0  \n",
       "...                      ...  \n",
       "62856                    0.0  \n",
       "62857                    0.0  \n",
       "62858                    1.0  \n",
       "62859                    0.0  \n",
       "62860                    0.0  \n",
       "\n",
       "[324 rows x 4 columns]"
      ]
     },
     "execution_count": 16,
     "metadata": {},
     "output_type": "execute_result"
    }
   ],
   "source": [
    "merged_df[merged_df.country==\"Sweden\"][[\"Date\",\"smoothed_deaths_diff7\",\"smoothed_deaths_diff-7\",\"AnyIntervention_diff1\"]].dropna()\n"
   ]
  },
  {
   "cell_type": "code",
   "execution_count": 17,
   "metadata": {
    "collapsed": false
   },
   "outputs": [
    {
     "name": "stderr",
     "output_type": "stream",
     "text": [
      "/Users/arnee/anaconda3/lib/python3.6/site-packages/ipykernel_launcher.py:3: SettingWithCopyWarning: \n",
      "A value is trying to be set on a copy of a slice from a DataFrame.\n",
      "Try using .loc[row_indexer,col_indexer] = value instead\n",
      "\n",
      "See the caveats in the documentation: http://pandas.pydata.org/pandas-docs/stable/user_guide/indexing.html#returning-a-view-versus-a-copy\n",
      "  This is separate from the ipykernel package so we can avoid doing imports until\n"
     ]
    },
    {
     "data": {
      "text/plain": [
       "Text(0.5, 0, 'Change in interventio')"
      ]
     },
     "execution_count": 17,
     "metadata": {},
     "output_type": "execute_result"
    },
    {
     "data": {
      "image/png": "[encoded data removed]",
      "text/plain": [
       "<Figure size 468x468 with 1 Axes>"
      ]
     },
     "metadata": {},
     "output_type": "display_data"
    }
   ],
   "source": [
    "f, ax = plt.subplots(figsize=(6.5, 6.5))\n",
    "temp_df=merged_df.loc[merged_df.AnyIntervention_diff1 != 0]\n",
    "temp_df[\"change\"]=temp_df.smoothed_cases_slope7-temp_df[\"smoothed_cases_slope-7\"]\n",
    "#plt.scatter(temp_df.AnyIntervention_diff1,temp_df.smoothed_cases_slope30,color=\"red\")\n",
    "#plt.scatter(temp_df.AnyIntervention_diff1,temp_df[\"smoothed_cases_slope-30\"],color=\"blue\")\n",
    "plt.scatter(temp_df.AnyIntervention_diff1,temp_df[\"change\"],color=\"blue\")\n",
    "\n",
    "ax.set_title(\"Change in slop of cases\")\n",
    "ax.set_ylabel(\"Change in slope\")\n",
    "ax.set_xlabel(\"Change in interventio\")\n",
    "\n"
   ]
  },
  {
   "cell_type": "code",
   "execution_count": 20,
   "metadata": {
    "collapsed": false
   },
   "outputs": [
    {
     "name": "stderr",
     "output_type": "stream",
     "text": [
      "/Users/arnee/anaconda3/lib/python3.6/site-packages/ipykernel_launcher.py:3: SettingWithCopyWarning: \n",
      "A value is trying to be set on a copy of a slice from a DataFrame.\n",
      "Try using .loc[row_indexer,col_indexer] = value instead\n",
      "\n",
      "See the caveats in the documentation: http://pandas.pydata.org/pandas-docs/stable/user_guide/indexing.html#returning-a-view-versus-a-copy\n",
      "  This is separate from the ipykernel package so we can avoid doing imports until\n"
     ]
    },
    {
     "name": "stdout",
     "output_type": "stream",
     "text": [
      "1127\n"
     ]
    },
    {
     "data": {
      "image/png": "[encoded data removed]",
      "text/plain": [
       "<Figure size 468x468 with 1 Axes>"
      ]
     },
     "metadata": {},
     "output_type": "display_data"
    }
   ],
   "source": [
    "f, ax = plt.subplots(figsize=(6.5, 6.5))\n",
    "temp_df=merged_df.loc[merged_df.C6_Flag_diff1 != 0]\n",
    "temp_df[\"change\"]=temp_df.smoothed_cases_slope7-temp_df[\"smoothed_cases_slope-7\"]\n",
    "#plt.scatter(temp_df.AnyIntervention_diff1,temp_df.smoothed_cases_slope30,color=\"red\")\n",
    "#plt.scatter(temp_df.AnyIntervention_diff1,temp_df[\"smoothed_cases_slope-30\"],color=\"blue\")\n",
    "plt.scatter(temp_df.AnyIntervention_diff1,temp_df[\"change\"],color=\"blue\")\n"
   ]
  },
  {
   "cell_type": "code",
   "execution_count": 44,
   "metadata": {
    "collapsed": false
   },
   "outputs": [
    {
     "name": "stdout",
     "output_type": "stream",
     "text": [
      "5170\n",
      "2720\n",
      "2185\n",
      "265\n"
     ]
    },
    {
     "data": {
      "text/plain": [
       "['C1_School closing',\n",
       " 'C1_Flag',\n",
       " 'C2_Workplace closing',\n",
       " 'C2_Flag',\n",
       " 'C3_Cancel public events',\n",
       " 'C3_Flag',\n",
       " 'C4_Restrictions on gatherings',\n",
       " 'C4_Flag',\n",
       " 'C5_Close public transport',\n",
       " 'C5_Flag',\n",
       " 'C6_Stay at home requirements',\n",
       " 'C6_Flag',\n",
       " 'C7_Restrictions on internal movement',\n",
       " 'C7_Flag',\n",
       " 'C8_International travel controls']"
      ]
     },
     "execution_count": 44,
     "metadata": {},
     "output_type": "execute_result"
    }
   ],
   "source": [
    "temp_df=merged_df.loc[merged_df.AnyIntervention_diff1 != 0]\n",
    "print (len(temp_df[temp_df.AnyIntervention_diff1!=0]))\n",
    "print (len(temp_df[temp_df.AnyIntervention_diff1>0]))\n",
    "print (len(temp_df[temp_df.AnyIntervention_diff1<0]))\n",
    "print (len(temp_df.country.unique()))\n",
    "\n",
    "interventions"
   ]
  },
  {
   "cell_type": "code",
   "execution_count": null,
   "metadata": {
    "collapsed": false
   },
   "outputs": [],
   "source": []
  }
 ],
 "metadata": {
  "kernelspec": {
   "display_name": "Python 3",
   "language": "python",
   "name": "python3"
  },
  "language_info": {
   "codemirror_mode": {
    "name": "ipython",
    "version": 3
   },
   "file_extension": ".py",
   "mimetype": "text/x-python",
   "name": "python",
   "nbconvert_exporter": "python",
   "pygments_lexer": "ipython3",
   "version": "3.6.4"
  },
  "name": "analysis.ipynb"
 },
 "nbformat": 4,
 "nbformat_minor": 4
}
